{
 "cells": [
  {
   "cell_type": "code",
   "execution_count": 531,
   "id": "ccc4369d",
   "metadata": {},
   "outputs": [],
   "source": [
    "import pandas as pd\n",
    "import numpy as np\n",
    "import matplotlib.pyplot as plt\n",
    "import seaborn as sns\n",
    "import sklearn"
   ]
  },
  {
   "cell_type": "markdown",
   "id": "3c9cd46b",
   "metadata": {},
   "source": [
    "Задание\n",
    "Цель: Изучить применение методов по поиску выбросов в данных, попрактиковаться в обработке экстремальных значений.\n",
    "Описание задания:\n",
    "В домашнем задании нужно решить задачу классификации типа стекол. Данные для обучения моделей можно скачать с сайта. Целевая переменная – тип стекла «Type». Остальные признаки описывают химические элементы в составе материала. Датасет нужно исследовать на наличие выбросов, провести EDA.\n",
    "Этапы работы:"
   ]
  },
  {
   "cell_type": "markdown",
   "id": "e85ddf8c",
   "metadata": {},
   "source": [
    "<h3>1.Получите данные и загрузите их в рабочую среду (Jupyter Notebook или другую)."
   ]
  },
  {
   "cell_type": "code",
   "execution_count": 532,
   "id": "07419709",
   "metadata": {},
   "outputs": [
    {
     "data": {
      "text/html": [
       "<div>\n",
       "<style scoped>\n",
       "    .dataframe tbody tr th:only-of-type {\n",
       "        vertical-align: middle;\n",
       "    }\n",
       "\n",
       "    .dataframe tbody tr th {\n",
       "        vertical-align: top;\n",
       "    }\n",
       "\n",
       "    .dataframe thead th {\n",
       "        text-align: right;\n",
       "    }\n",
       "</style>\n",
       "<table border=\"1\" class=\"dataframe\">\n",
       "  <thead>\n",
       "    <tr style=\"text-align: right;\">\n",
       "      <th></th>\n",
       "      <th>RI</th>\n",
       "      <th>Na</th>\n",
       "      <th>Mg</th>\n",
       "      <th>Al</th>\n",
       "      <th>Si</th>\n",
       "      <th>K</th>\n",
       "      <th>Ca</th>\n",
       "      <th>Ba</th>\n",
       "      <th>Fe</th>\n",
       "      <th>Type</th>\n",
       "    </tr>\n",
       "  </thead>\n",
       "  <tbody>\n",
       "    <tr>\n",
       "      <th>0</th>\n",
       "      <td>1.52101</td>\n",
       "      <td>13.64</td>\n",
       "      <td>4.49</td>\n",
       "      <td>1.10</td>\n",
       "      <td>71.78</td>\n",
       "      <td>0.06</td>\n",
       "      <td>8.75</td>\n",
       "      <td>0.0</td>\n",
       "      <td>0.0</td>\n",
       "      <td>1</td>\n",
       "    </tr>\n",
       "    <tr>\n",
       "      <th>1</th>\n",
       "      <td>1.51761</td>\n",
       "      <td>13.89</td>\n",
       "      <td>3.60</td>\n",
       "      <td>1.36</td>\n",
       "      <td>72.73</td>\n",
       "      <td>0.48</td>\n",
       "      <td>7.83</td>\n",
       "      <td>0.0</td>\n",
       "      <td>0.0</td>\n",
       "      <td>1</td>\n",
       "    </tr>\n",
       "    <tr>\n",
       "      <th>2</th>\n",
       "      <td>1.51618</td>\n",
       "      <td>13.53</td>\n",
       "      <td>3.55</td>\n",
       "      <td>1.54</td>\n",
       "      <td>72.99</td>\n",
       "      <td>0.39</td>\n",
       "      <td>7.78</td>\n",
       "      <td>0.0</td>\n",
       "      <td>0.0</td>\n",
       "      <td>1</td>\n",
       "    </tr>\n",
       "    <tr>\n",
       "      <th>3</th>\n",
       "      <td>1.51766</td>\n",
       "      <td>13.21</td>\n",
       "      <td>3.69</td>\n",
       "      <td>1.29</td>\n",
       "      <td>72.61</td>\n",
       "      <td>0.57</td>\n",
       "      <td>8.22</td>\n",
       "      <td>0.0</td>\n",
       "      <td>0.0</td>\n",
       "      <td>1</td>\n",
       "    </tr>\n",
       "    <tr>\n",
       "      <th>4</th>\n",
       "      <td>1.51742</td>\n",
       "      <td>13.27</td>\n",
       "      <td>3.62</td>\n",
       "      <td>1.24</td>\n",
       "      <td>73.08</td>\n",
       "      <td>0.55</td>\n",
       "      <td>8.07</td>\n",
       "      <td>0.0</td>\n",
       "      <td>0.0</td>\n",
       "      <td>1</td>\n",
       "    </tr>\n",
       "  </tbody>\n",
       "</table>\n",
       "</div>"
      ],
      "text/plain": [
       "        RI     Na    Mg    Al     Si     K    Ca   Ba   Fe  Type\n",
       "0  1.52101  13.64  4.49  1.10  71.78  0.06  8.75  0.0  0.0     1\n",
       "1  1.51761  13.89  3.60  1.36  72.73  0.48  7.83  0.0  0.0     1\n",
       "2  1.51618  13.53  3.55  1.54  72.99  0.39  7.78  0.0  0.0     1\n",
       "3  1.51766  13.21  3.69  1.29  72.61  0.57  8.22  0.0  0.0     1\n",
       "4  1.51742  13.27  3.62  1.24  73.08  0.55  8.07  0.0  0.0     1"
      ]
     },
     "execution_count": 532,
     "metadata": {},
     "output_type": "execute_result"
    }
   ],
   "source": [
    "# загружаем данные\n",
    "df = pd.read_csv('glass.csv')\n",
    "df.head()"
   ]
  },
  {
   "cell_type": "markdown",
   "id": "37445199",
   "metadata": {},
   "source": [
    "<h3>2.\tПроведите первичный анализ.\n",
    "<br>а) Проверьте количество записей для каждого класса. Сделайте вывод."
   ]
  },
  {
   "cell_type": "code",
   "execution_count": 533,
   "id": "d4578bec",
   "metadata": {},
   "outputs": [
    {
     "name": "stdout",
     "output_type": "stream",
     "text": [
      "Training data shape:  (214, 10)\n"
     ]
    },
    {
     "data": {
      "text/plain": [
       "float64    9\n",
       "int64      1\n",
       "dtype: int64"
      ]
     },
     "execution_count": 533,
     "metadata": {},
     "output_type": "execute_result"
    }
   ],
   "source": [
    "# Типы данных\n",
    "print('Training data shape: ', df.shape)\n",
    "df.dtypes.value_counts()"
   ]
  },
  {
   "cell_type": "code",
   "execution_count": 534,
   "id": "e51f3200",
   "metadata": {},
   "outputs": [
    {
     "name": "stdout",
     "output_type": "stream",
     "text": [
      "<class 'pandas.core.frame.DataFrame'>\n",
      "RangeIndex: 214 entries, 0 to 213\n",
      "Data columns (total 10 columns):\n",
      " #   Column  Non-Null Count  Dtype  \n",
      "---  ------  --------------  -----  \n",
      " 0   RI      214 non-null    float64\n",
      " 1   Na      214 non-null    float64\n",
      " 2   Mg      214 non-null    float64\n",
      " 3   Al      214 non-null    float64\n",
      " 4   Si      214 non-null    float64\n",
      " 5   K       214 non-null    float64\n",
      " 6   Ca      214 non-null    float64\n",
      " 7   Ba      214 non-null    float64\n",
      " 8   Fe      214 non-null    float64\n",
      " 9   Type    214 non-null    int64  \n",
      "dtypes: float64(9), int64(1)\n",
      "memory usage: 16.8 KB\n"
     ]
    }
   ],
   "source": [
    "df.info()"
   ]
  },
  {
   "cell_type": "markdown",
   "id": "e47c1bde",
   "metadata": {},
   "source": [
    "пропусков нет, данные имеют формат float"
   ]
  },
  {
   "cell_type": "code",
   "execution_count": 535,
   "id": "5e98b967",
   "metadata": {},
   "outputs": [
    {
     "data": {
      "text/plain": [
       "array([1, 2, 3, 5, 6, 7])"
      ]
     },
     "execution_count": 535,
     "metadata": {},
     "output_type": "execute_result"
    }
   ],
   "source": [
    "# уникальные значения целевой функции\n",
    "df['Type'].unique()"
   ]
  },
  {
   "cell_type": "markdown",
   "id": "86ed2774",
   "metadata": {},
   "source": [
    "<h3>3.Разделите выборку на обучающее и тестовое подмножества. \n",
    "     <br> 80% данных оставить на обучающее множество, 20% - на тестовое."
   ]
  },
  {
   "cell_type": "code",
   "execution_count": 536,
   "id": "5eed8967",
   "metadata": {},
   "outputs": [],
   "source": [
    "X, y = df.iloc[:,:-1], df.iloc[:,-1]"
   ]
  },
  {
   "cell_type": "markdown",
   "id": "7df0b64b",
   "metadata": {},
   "source": [
    "<h3>4.Обучите модель дерева решений RandomForestClassifier на обучающем множестве."
   ]
  },
  {
   "cell_type": "code",
   "execution_count": 537,
   "id": "6fbd2071",
   "metadata": {},
   "outputs": [],
   "source": [
    "from sklearn.model_selection import train_test_split\n",
    "X_train, X_test, y_train, y_test = train_test_split(X, y, test_size = 0.2)"
   ]
  },
  {
   "cell_type": "code",
   "execution_count": 538,
   "id": "61f92cec",
   "metadata": {
    "scrolled": true
   },
   "outputs": [],
   "source": [
    "from sklearn.ensemble import RandomForestClassifier\n",
    "clf = RandomForestClassifier(criterion='entropy')\n",
    "# Обучаем модель\n",
    "clf.fit(X_train, y_train)\n",
    " \n",
    "y_pred = clf.predict(X_test)"
   ]
  },
  {
   "cell_type": "markdown",
   "id": "15812678",
   "metadata": {},
   "source": [
    "<h3>5.Для тестового множества предскажите тип стекла и сравните с истинным значением, посчитав точность предсказания модели (accuracy)."
   ]
  },
  {
   "cell_type": "code",
   "execution_count": 539,
   "id": "551245df",
   "metadata": {
    "scrolled": true
   },
   "outputs": [
    {
     "name": "stdout",
     "output_type": "stream",
     "text": [
      "Метрики                  Значения\n",
      "MAE                      : 0.558\n",
      "MSE                      : 1.628\n",
      "RMSE                     : 1.276\n",
      "r2_score                 : 0.657\n"
     ]
    }
   ],
   "source": [
    "from sklearn.metrics import accuracy_score, precision_score, recall_score, f1_score,roc_auc_score, mean_absolute_error, mean_squared_error, r2_score  \n",
    "print('Метрики                  Значения')\n",
    "print('MAE                      : %.3f'%mean_absolute_error(y_test, y_pred))\n",
    "print('MSE                      : %.3f'%mean_squared_error(y_test, y_pred))\n",
    "print('RMSE                     : %.3f'%np.sqrt(mean_squared_error(y_test, y_pred)))\n",
    "\n",
    "print('r2_score                 : %.3f'%r2_score(y_test, y_pred))"
   ]
  },
  {
   "cell_type": "markdown",
   "id": "63fd278e",
   "metadata": {},
   "source": [
    "<h2>6.\tОбработайте выбросы в данных.\n",
    "<br>а) Визуализируйте распределение значений для каждой переменной. Можно использовать функции sns.boxplot, sns.distplot. Есть ли признаки с нормальным распределением?"
   ]
  },
  {
   "cell_type": "code",
   "execution_count": 540,
   "id": "2944b2e0",
   "metadata": {
    "scrolled": true
   },
   "outputs": [
    {
     "data": {
      "image/png": "[encoded data removed]",
      "text/plain": [
       "<Figure size 1080x2520 with 9 Axes>"
      ]
     },
     "metadata": {},
     "output_type": "display_data"
    }
   ],
   "source": [
    "# построим графики распределения параметров с отображением нормального распределения \n",
    "from matplotlib import pyplot as plt\n",
    "import matplotlib.mlab as mlab\n",
    "from scipy.stats import norm\n",
    "\n",
    "plt.figure(figsize=(15,35), facecolor='white')\n",
    "plotnumber =1\n",
    "for feature in X:\n",
    "    ax = plt.subplot(12,3,plotnumber)\n",
    "    n, bins, patches = plt.hist(df[feature], 50, density=True)\n",
    "    mu = np.mean(df[feature])\n",
    "    sigma = np.std(df[feature])\n",
    "    plt.plot(bins, norm.pdf(bins, mu, sigma))\n",
    "    \n",
    "    #plt.xlabel(feature)\n",
    "    plt.ylabel('Сумма')\n",
    "    plt.title(feature)\n",
    "    plotnumber+=1\n",
    "plt.show()"
   ]
  },
  {
   "cell_type": "markdown",
   "id": "6fa9c08c",
   "metadata": {},
   "source": [
    "Визуально под нормальное распределение попадают графики 1,2,4,5,7 "
   ]
  },
  {
   "cell_type": "code",
   "execution_count": 541,
   "id": "ab5a848a",
   "metadata": {},
   "outputs": [
    {
     "data": {
      "image/png": "[encoded data removed]",
      "text/plain": [
       "<Figure size 1080x720 with 9 Axes>"
      ]
     },
     "metadata": {},
     "output_type": "display_data"
    }
   ],
   "source": [
    "# построим графики распределения параметров sns.boxplot\n",
    "plt.figure(figsize=(15,10), facecolor='white')\n",
    "plotnumber =1\n",
    "for feature in X:\n",
    "    ax = plt.subplot(5,3,plotnumber)\n",
    "    sns.boxplot(data = X, x = X[feature])#, orient=\"v\")\n",
    "    #plt.xlabel(feature)\n",
    "    #plt.ylabel('Кол-во')\n",
    "    plt.title(feature)\n",
    "    plotnumber+=1\n",
    "plt.show()"
   ]
  },
  {
   "cell_type": "code",
   "execution_count": 542,
   "id": "7635040b",
   "metadata": {},
   "outputs": [
    {
     "data": {
      "text/plain": [
       "<Figure size 1800x720 with 0 Axes>"
      ]
     },
     "metadata": {},
     "output_type": "display_data"
    },
    {
     "data": {
      "image/png": "[encoded data removed]",
      "text/plain": [
       "<Figure size 402.375x360 with 1 Axes>"
      ]
     },
     "metadata": {
      "needs_background": "light"
     },
     "output_type": "display_data"
    }
   ],
   "source": [
    "# для примера построим график sns.displot по параметру Mg\n",
    "plt.figure(figsize=(25,10), facecolor='white')\n",
    "sns.displot(df, x=\"Mg\", hue=\"Type\", kind=\"kde\", multiple=\"stack\", palette='Set2')\n",
    "plt.xlabel('Mg')\n",
    "plt.ylabel('Сумма')\n",
    "plt.title('Распределение целевой функции')\n",
    "plt.show()  "
   ]
  },
  {
   "cell_type": "code",
   "execution_count": 543,
   "id": "b6956ac0",
   "metadata": {
    "run_control": {
     "marked": true
    }
   },
   "outputs": [
    {
     "name": "stdout",
     "output_type": "stream",
     "text": [
      "   Statistics Шапиро-Уилк =0.868, p-value=0.000 ; Statistics Пирсона=84.358, p-value=0.000\n",
      "   Отклонить гипотезу о нормальности Шапиро-Уилк (Пирсона) для \"RI\"\n",
      "AndersonResult(statistic=8.419223093681325, critical_values=array([0.566, 0.644, 0.773, 0.902, 1.073]), significance_level=array([15. , 10. ,  5. ,  2.5,  1. ]))\n",
      "   Statistics Шапиро-Уилк =0.946, p-value=0.000 ; Statistics Пирсона=27.015, p-value=0.000\n",
      "   Отклонить гипотезу о нормальности Шапиро-Уилк (Пирсона) для \"Na\"\n",
      "AndersonResult(statistic=3.0443636466204396, critical_values=array([0.566, 0.644, 0.773, 0.902, 1.073]), significance_level=array([15. , 10. ,  5. ,  2.5,  1. ]))\n",
      "   Statistics Шапиро-Уилк =0.699, p-value=0.000 ; Statistics Пирсона=35.885, p-value=0.000\n",
      "   Отклонить гипотезу о нормальности Шапиро-Уилк (Пирсона) для \"Mg\"\n",
      "AndersonResult(statistic=29.299860338459013, critical_values=array([0.566, 0.644, 0.773, 0.902, 1.073]), significance_level=array([15. , 10. ,  5. ,  2.5,  1. ]))\n",
      "   Statistics Шапиро-Уилк =0.943, p-value=0.000 ; Statistics Пирсона=36.773, p-value=0.000\n",
      "   Отклонить гипотезу о нормальности Шапиро-Уилк (Пирсона) для \"Al\"\n",
      "AndersonResult(statistic=3.748540508867052, critical_values=array([0.566, 0.644, 0.773, 0.902, 1.073]), significance_level=array([15. , 10. ,  5. ,  2.5,  1. ]))\n",
      "   Statistics Шапиро-Уилк =0.920, p-value=0.000 ; Statistics Пирсона=35.873, p-value=0.000\n",
      "   Отклонить гипотезу о нормальности Шапиро-Уилк (Пирсона) для \"Si\"\n",
      "AndersonResult(statistic=5.041357227748449, critical_values=array([0.566, 0.644, 0.773, 0.902, 1.073]), significance_level=array([15. , 10. ,  5. ,  2.5,  1. ]))\n",
      "   Statistics Шапиро-Уилк =0.442, p-value=0.000 ; Statistics Пирсона=305.666, p-value=0.000\n",
      "   Отклонить гипотезу о нормальности Шапиро-Уилк (Пирсона) для \"K\"\n",
      "AndersonResult(statistic=25.75455328564658, critical_values=array([0.566, 0.644, 0.773, 0.902, 1.073]), significance_level=array([15. , 10. ,  5. ,  2.5,  1. ]))\n",
      "   Statistics Шапиро-Уилк =0.794, p-value=0.000 ; Statistics Пирсона=109.473, p-value=0.000\n",
      "   Отклонить гипотезу о нормальности Шапиро-Уилк (Пирсона) для \"Ca\"\n",
      "AndersonResult(statistic=14.163531741714735, critical_values=array([0.566, 0.644, 0.773, 0.902, 1.073]), significance_level=array([15. , 10. ,  5. ,  2.5,  1. ]))\n",
      "   Statistics Шапиро-Уилк =0.409, p-value=0.000 ; Statistics Пирсона=177.280, p-value=0.000\n",
      "   Отклонить гипотезу о нормальности Шапиро-Уилк (Пирсона) для \"Ba\"\n",
      "AndersonResult(statistic=55.865057076677715, critical_values=array([0.566, 0.644, 0.773, 0.902, 1.073]), significance_level=array([15. , 10. ,  5. ,  2.5,  1. ]))\n",
      "   Statistics Шапиро-Уилк =0.653, p-value=0.000 ; Statistics Пирсона=76.867, p-value=0.000\n",
      "   Отклонить гипотезу о нормальности Шапиро-Уилк (Пирсона) для \"Fe\"\n",
      "AndersonResult(statistic=32.78234768163156, critical_values=array([0.566, 0.644, 0.773, 0.902, 1.073]), significance_level=array([15. , 10. ,  5. ,  2.5,  1. ]))\n"
     ]
    }
   ],
   "source": [
    "# проверим параметры на соответствие нормальному распределению\n",
    "import scipy\n",
    "for feature in X:\n",
    "    stat, p = scipy.stats.shapiro(df[feature]) # тест Шапиро-Уилк\n",
    "    stat2, p2 = scipy.stats.normaltest(df[feature]) # Критерий согласия Пирсона\n",
    "    print('   Statistics Шапиро-Уилк =%.3f, p-value=%.3f' % (stat, p),'; Statistics Пирсона=%.3f, p-value=%.3f' % (stat2, p2))\n",
    "    alpha, alpha2 = (0.05,0.05)\n",
    "    if p > alpha and p2 > alpha2:\n",
    "        print(f'Принять гипотезу о нормальности Шапиро-Уилк (Пирсона) для \"{feature}\"')\n",
    "    else:\n",
    "        print(f'   Отклонить гипотезу о нормальности Шапиро-Уилк (Пирсона) для \"{feature}\"')\n",
    "    print(scipy.stats.anderson(df[feature], dist='norm'))# Критерий Андерсона"
   ]
  },
  {
   "cell_type": "markdown",
   "id": "2aa35b6e",
   "metadata": {},
   "source": [
    "Расчет критериев Шапиро-Уилк, Пирсона, Андерсона (statistic > 1,021) показал, что данные параметров не соответствуют нормальному распределению. Возможная причина - незначительный объем датасета: 214 строк, а также наличие нескольких (6) уникальных значений целевой функции."
   ]
  },
  {
   "cell_type": "markdown",
   "id": "27cc5385",
   "metadata": {},
   "source": [
    "<h3>b) Исследуйте признаки на выбросы несколькими способами."
   ]
  },
  {
   "cell_type": "code",
   "execution_count": 544,
   "id": "9dbf769a",
   "metadata": {},
   "outputs": [
    {
     "data": {
      "image/png": "[encoded data removed]",
      "text/plain": [
       "<Figure size 1080x2520 with 9 Axes>"
      ]
     },
     "metadata": {},
     "output_type": "display_data"
    }
   ],
   "source": [
    "# Рассмотрим графики распределения целевой переменной\n",
    "plt.figure(figsize=(15,35), facecolor='white')\n",
    "plotnumber =1\n",
    "for feature in X:\n",
    "    ax = plt.subplot(12,3,plotnumber)\n",
    "    plt.scatter(df[feature],df['Type'])\n",
    "    #plt.xlabel(feature)\n",
    "    plt.ylabel('Type')\n",
    "    plt.title(feature)\n",
    "    plotnumber+=1\n",
    "plt.show()"
   ]
  },
  {
   "cell_type": "markdown",
   "id": "139a1e49",
   "metadata": {},
   "source": [
    "Исходя из графиков видно, что практически во всех признаках наблюдаются выбросы значений."
   ]
  },
  {
   "cell_type": "code",
   "execution_count": 545,
   "id": "0c163196",
   "metadata": {},
   "outputs": [
    {
     "name": "stdout",
     "output_type": "stream",
     "text": [
      "(214, 10) (213, 10)\n"
     ]
    }
   ],
   "source": [
    "# Нахождение дубликатов\n",
    "df_dup = df.drop_duplicates()\n",
    "print(df.shape, df_dup.shape)"
   ]
  },
  {
   "cell_type": "code",
   "execution_count": 546,
   "id": "564dc08a",
   "metadata": {},
   "outputs": [
    {
     "data": {
      "text/plain": [
       "(194, 10)"
      ]
     },
     "execution_count": 546,
     "metadata": {},
     "output_type": "execute_result"
    }
   ],
   "source": [
    "# Метод Z-оценки:\n",
    "import scipy.stats as stats\n",
    "z = np.abs(stats.zscore(df))\n",
    "\n",
    "# z-scores со значением меньше 3 \n",
    "df2 = df[(z<3).all(axis=1)]\n",
    "df2.shape"
   ]
  },
  {
   "cell_type": "code",
   "execution_count": 547,
   "id": "975bfc33",
   "metadata": {},
   "outputs": [
    {
     "data": {
      "text/html": [
       "<div>\n",
       "<style scoped>\n",
       "    .dataframe tbody tr th:only-of-type {\n",
       "        vertical-align: middle;\n",
       "    }\n",
       "\n",
       "    .dataframe tbody tr th {\n",
       "        vertical-align: top;\n",
       "    }\n",
       "\n",
       "    .dataframe thead th {\n",
       "        text-align: right;\n",
       "    }\n",
       "</style>\n",
       "<table border=\"1\" class=\"dataframe\">\n",
       "  <thead>\n",
       "    <tr style=\"text-align: right;\">\n",
       "      <th></th>\n",
       "      <th>RI</th>\n",
       "      <th>Na</th>\n",
       "      <th>Mg</th>\n",
       "      <th>Al</th>\n",
       "      <th>Si</th>\n",
       "      <th>K</th>\n",
       "      <th>Ca</th>\n",
       "      <th>Ba</th>\n",
       "      <th>Fe</th>\n",
       "      <th>Type</th>\n",
       "    </tr>\n",
       "  </thead>\n",
       "  <tbody>\n",
       "    <tr>\n",
       "      <th>count</th>\n",
       "      <td>2.140000e+02</td>\n",
       "      <td>2.140000e+02</td>\n",
       "      <td>2.140000e+02</td>\n",
       "      <td>2.140000e+02</td>\n",
       "      <td>2.140000e+02</td>\n",
       "      <td>2.140000e+02</td>\n",
       "      <td>2.140000e+02</td>\n",
       "      <td>2.140000e+02</td>\n",
       "      <td>2.140000e+02</td>\n",
       "      <td>2.140000e+02</td>\n",
       "    </tr>\n",
       "    <tr>\n",
       "      <th>mean</th>\n",
       "      <td>-2.877034e-14</td>\n",
       "      <td>2.191393e-15</td>\n",
       "      <td>-1.328117e-16</td>\n",
       "      <td>-2.988264e-16</td>\n",
       "      <td>9.525091e-16</td>\n",
       "      <td>3.527811e-17</td>\n",
       "      <td>-3.154278e-16</td>\n",
       "      <td>-6.640586e-17</td>\n",
       "      <td>-3.735330e-17</td>\n",
       "      <td>1.992176e-16</td>\n",
       "    </tr>\n",
       "    <tr>\n",
       "      <th>std</th>\n",
       "      <td>1.002345e+00</td>\n",
       "      <td>1.002345e+00</td>\n",
       "      <td>1.002345e+00</td>\n",
       "      <td>1.002345e+00</td>\n",
       "      <td>1.002345e+00</td>\n",
       "      <td>1.002345e+00</td>\n",
       "      <td>1.002345e+00</td>\n",
       "      <td>1.002345e+00</td>\n",
       "      <td>1.002345e+00</td>\n",
       "      <td>1.002345e+00</td>\n",
       "    </tr>\n",
       "    <tr>\n",
       "      <th>min</th>\n",
       "      <td>-2.381516e+00</td>\n",
       "      <td>-3.286943e+00</td>\n",
       "      <td>-1.865511e+00</td>\n",
       "      <td>-2.318616e+00</td>\n",
       "      <td>-3.676472e+00</td>\n",
       "      <td>-7.639186e-01</td>\n",
       "      <td>-2.484084e+00</td>\n",
       "      <td>-3.528768e-01</td>\n",
       "      <td>-5.864509e-01</td>\n",
       "      <td>-8.482747e-01</td>\n",
       "    </tr>\n",
       "    <tr>\n",
       "      <th>25%</th>\n",
       "      <td>-6.082728e-01</td>\n",
       "      <td>-6.141580e-01</td>\n",
       "      <td>-3.957744e-01</td>\n",
       "      <td>-5.117560e-01</td>\n",
       "      <td>-4.800288e-01</td>\n",
       "      <td>-5.756501e-01</td>\n",
       "      <td>-5.049657e-01</td>\n",
       "      <td>-3.528768e-01</td>\n",
       "      <td>-5.864509e-01</td>\n",
       "      <td>-8.482747e-01</td>\n",
       "    </tr>\n",
       "    <tr>\n",
       "      <th>50%</th>\n",
       "      <td>-2.262293e-01</td>\n",
       "      <td>-1.323817e-01</td>\n",
       "      <td>5.527787e-01</td>\n",
       "      <td>-1.704602e-01</td>\n",
       "      <td>1.799655e-01</td>\n",
       "      <td>8.905322e-02</td>\n",
       "      <td>-2.514132e-01</td>\n",
       "      <td>-3.528768e-01</td>\n",
       "      <td>-5.864509e-01</td>\n",
       "      <td>-3.718159e-01</td>\n",
       "    </tr>\n",
       "    <tr>\n",
       "      <th>75%</th>\n",
       "      <td>2.614331e-01</td>\n",
       "      <td>5.120326e-01</td>\n",
       "      <td>6.361680e-01</td>\n",
       "      <td>3.715977e-01</td>\n",
       "      <td>5.649621e-01</td>\n",
       "      <td>1.735820e-01</td>\n",
       "      <td>1.518057e-01</td>\n",
       "      <td>-3.528768e-01</td>\n",
       "      <td>4.422417e-01</td>\n",
       "      <td>1.046428e-01</td>\n",
       "    </tr>\n",
       "    <tr>\n",
       "      <th>max</th>\n",
       "      <td>5.137232e+00</td>\n",
       "      <td>4.875637e+00</td>\n",
       "      <td>1.254639e+00</td>\n",
       "      <td>4.125851e+00</td>\n",
       "      <td>3.570524e+00</td>\n",
       "      <td>8.780145e+00</td>\n",
       "      <td>5.094318e+00</td>\n",
       "      <td>5.997210e+00</td>\n",
       "      <td>4.659881e+00</td>\n",
       "      <td>2.010478e+00</td>\n",
       "    </tr>\n",
       "  </tbody>\n",
       "</table>\n",
       "</div>"
      ],
      "text/plain": [
       "                 RI            Na            Mg            Al            Si  \\\n",
       "count  2.140000e+02  2.140000e+02  2.140000e+02  2.140000e+02  2.140000e+02   \n",
       "mean  -2.877034e-14  2.191393e-15 -1.328117e-16 -2.988264e-16  9.525091e-16   \n",
       "std    1.002345e+00  1.002345e+00  1.002345e+00  1.002345e+00  1.002345e+00   \n",
       "min   -2.381516e+00 -3.286943e+00 -1.865511e+00 -2.318616e+00 -3.676472e+00   \n",
       "25%   -6.082728e-01 -6.141580e-01 -3.957744e-01 -5.117560e-01 -4.800288e-01   \n",
       "50%   -2.262293e-01 -1.323817e-01  5.527787e-01 -1.704602e-01  1.799655e-01   \n",
       "75%    2.614331e-01  5.120326e-01  6.361680e-01  3.715977e-01  5.649621e-01   \n",
       "max    5.137232e+00  4.875637e+00  1.254639e+00  4.125851e+00  3.570524e+00   \n",
       "\n",
       "                  K            Ca            Ba            Fe          Type  \n",
       "count  2.140000e+02  2.140000e+02  2.140000e+02  2.140000e+02  2.140000e+02  \n",
       "mean   3.527811e-17 -3.154278e-16 -6.640586e-17 -3.735330e-17  1.992176e-16  \n",
       "std    1.002345e+00  1.002345e+00  1.002345e+00  1.002345e+00  1.002345e+00  \n",
       "min   -7.639186e-01 -2.484084e+00 -3.528768e-01 -5.864509e-01 -8.482747e-01  \n",
       "25%   -5.756501e-01 -5.049657e-01 -3.528768e-01 -5.864509e-01 -8.482747e-01  \n",
       "50%    8.905322e-02 -2.514132e-01 -3.528768e-01 -5.864509e-01 -3.718159e-01  \n",
       "75%    1.735820e-01  1.518057e-01 -3.528768e-01  4.422417e-01  1.046428e-01  \n",
       "max    8.780145e+00  5.094318e+00  5.997210e+00  4.659881e+00  2.010478e+00  "
      ]
     },
     "execution_count": 547,
     "metadata": {},
     "output_type": "execute_result"
    }
   ],
   "source": [
    "# z-scores по параметрам\n",
    "dfZ = df.select_dtypes(include='number').apply(stats.zscore)\n",
    "dfZ.describe()"
   ]
  },
  {
   "cell_type": "code",
   "execution_count": 548,
   "id": "1dcc0fce",
   "metadata": {},
   "outputs": [
    {
     "data": {
      "text/plain": [
       "(136, 10)"
      ]
     },
     "execution_count": 548,
     "metadata": {},
     "output_type": "execute_result"
    }
   ],
   "source": [
    "# Метод межквартильного диапазона:\n",
    "Q1 = df.quantile(q=.25)\n",
    "Q3 = df.quantile(q=.75)\n",
    "IQR = df.apply(stats.iqr)\n",
    "\n",
    "# Оставим строки в диапазоне 1.5\\*IQR of Q1 and Q3\n",
    "df3 = df[~((df < (Q1-1.5*IQR)) | (df > (Q3+1.5*IQR))).any(axis=1)]\n",
    "df3.shape"
   ]
  },
  {
   "cell_type": "markdown",
   "id": "c202a91a",
   "metadata": {},
   "source": [
    "<h3>c) Удалите выбросы. *Посчитайте процент удаленных записей от общего числа записей для каждого класса."
   ]
  },
  {
   "cell_type": "code",
   "execution_count": 549,
   "id": "7e84c0b1",
   "metadata": {},
   "outputs": [
    {
     "name": "stdout",
     "output_type": "stream",
     "text": [
      "1     0.0\n",
      "2   -10.5\n",
      "3    -5.9\n",
      "5   -30.8\n",
      "6   -11.1\n",
      "7   -20.7\n",
      "Name: Type, dtype: float64\n",
      "1   -15.7\n",
      "2   -27.6\n",
      "3   -11.8\n",
      "5   -84.6\n",
      "6   -44.4\n",
      "7     NaN\n",
      "Name: Type, dtype: float64\n"
     ]
    }
   ],
   "source": [
    "# процент удаленных записей от общего числа Type после Z-оценки и удаления квантилей\n",
    "R2 = df2['Type'].value_counts().sort_index(ascending=True)/df['Type'].value_counts().sort_index(ascending=True)\n",
    "R3 = df3['Type'].value_counts().sort_index(ascending=True)/df['Type'].value_counts().sort_index(ascending=True)\n",
    "print(round(R2*100,1)-100)\n",
    "print(round(R3*100,1)-100)"
   ]
  },
  {
   "cell_type": "code",
   "execution_count": 550,
   "id": "ca8f00c5",
   "metadata": {},
   "outputs": [
    {
     "data": {
      "text/plain": [
       "(206, 10)"
      ]
     },
     "execution_count": 550,
     "metadata": {},
     "output_type": "execute_result"
    }
   ],
   "source": [
    "# Поскольку данных мало - удалим выборочно некоторые выбросы\n",
    "df4 = df[(df.Ba < 2) & (df.Na < 15.5) & (df.K < 2)]\n",
    "df4.shape"
   ]
  },
  {
   "cell_type": "markdown",
   "id": "da74cc12",
   "metadata": {},
   "source": [
    "<h3>7.Повторите п. 4, п. 5."
   ]
  },
  {
   "cell_type": "code",
   "execution_count": 551,
   "id": "84eda2d2",
   "metadata": {},
   "outputs": [],
   "source": [
    "# обучим модели с учетом удаления признаков различными способами\n",
    "from sklearn.model_selection import train_test_split\n",
    "\n",
    "X2, y2 = df2.iloc[:,:-1], df2.iloc[:,-1]\n",
    "X3, y3 = df3.iloc[:,:-1], df3.iloc[:,-1]\n",
    "X4, y4 = df4.iloc[:,:-1], df4.iloc[:,-1]\n",
    "\n",
    "X_train2, X_test2, y_train2, y_test2 = train_test_split(X2, y2, test_size = 0.2)\n",
    "X_train3, X_test3, y_train3, y_test3 = train_test_split(X3, y3, test_size = 0.2)\n",
    "X_train4, X_test4, y_train4, y_test4 = train_test_split(X4, y4, test_size = 0.2)\n",
    "\n",
    "clf = RandomForestClassifier(criterion='entropy')\n",
    "clf.fit(X_train2, y_train2)\n",
    "clf.fit(X_train3, y_train3)\n",
    "clf.fit(X_train4, y_train4)\n",
    "\n",
    "y_pred2 = clf.predict(X_test2)\n",
    "y_pred3 = clf.predict(X_test3)\n",
    "y_pred4 = clf.predict(X_test4)\n",
    "y_pred5 = clf.predict(X_train3)# справочно для оценки модели на тренировочном сете"
   ]
  },
  {
   "cell_type": "markdown",
   "id": "b8333b88",
   "metadata": {},
   "source": [
    "<h3>8.\tСформулируйте выводы по проделанной работе.\n",
    "<h3>а) Кратко опишите, какие преобразования были сделаны с данными."
   ]
  },
  {
   "cell_type": "markdown",
   "id": "210ed578",
   "metadata": {},
   "source": [
    "Проведены следующие преобразования данных:\n",
    "оценка формата признаков и целевой переменной, \n",
    "использование RandomForestClassifier для оценки классификации 6 признаков,\n",
    "построение графиков распределений, в том числе sns.boxplot, sns.displot,\n",
    "проверка распределений на нормальность,\n",
    "исследование выбросов,\n",
    "сравнение моделей с учетом предварительной обработки данных"
   ]
  },
  {
   "cell_type": "markdown",
   "id": "f45671b6",
   "metadata": {},
   "source": [
    "<h3>b) Сравните точность двух моделей."
   ]
  },
  {
   "cell_type": "code",
   "execution_count": 552,
   "id": "178c8f3e",
   "metadata": {
    "scrolled": true
   },
   "outputs": [
    {
     "name": "stdout",
     "output_type": "stream",
     "text": [
      "Метрики    RFC / RFC(Z) / RFC(Q) / RFC(выб) / RFC(Q train)\n",
      "MAE        : 0.558 / 0.026 / 0.036 / 0.286\n",
      "MSE        : 1.628 / 0.026 / 0.036 / 0.524\n",
      "RMSE       : 1.276 / 0.160 / 0.189 / 0.724\n",
      "\n",
      "r2_score   : 0.657 / 0.995 / 0.976 / 0.881 / 0.945\n"
     ]
    }
   ],
   "source": [
    "# сравним метрики качества 4 моделей RandomForestClassifier (базовой, после Z score, расчета квантилей, удаления выбросов):\n",
    "from sklearn.metrics import accuracy_score, precision_score, recall_score, f1_score,roc_auc_score, mean_absolute_error, mean_squared_error, r2_score  \n",
    "print('Метрики    RFC / RFC(Z) / RFC(Q) / RFC(выб) / RFC(Q train)')\n",
    "print('MAE        : %.3f'%mean_absolute_error(y_test, y_pred), '/ %.3f'%mean_absolute_error(y_test2, y_pred2), '/ %.3f'%mean_absolute_error(y_test3, y_pred3), '/ %.3f'%mean_absolute_error(y_test4, y_pred4))\n",
    "print('MSE        : %.3f'%mean_squared_error(y_test, y_pred), '/ %.3f'%mean_squared_error(y_test2, y_pred2), '/ %.3f'%mean_squared_error(y_test3, y_pred3), '/ %.3f'%mean_squared_error(y_test4, y_pred4))\n",
    "print('RMSE       : %.3f'%np.sqrt(mean_squared_error(y_test, y_pred)), '/ %.3f'%np.sqrt(mean_squared_error(y_test2, y_pred2)), '/ %.3f'%np.sqrt(mean_squared_error(y_test3, y_pred3)), '/ %.3f'%np.sqrt(mean_squared_error(y_test4, y_pred4)))\n",
    "print()\n",
    "print('r2_score   : %.3f'%r2_score(y_test, y_pred), '/ %.3f'%r2_score(y_test2, y_pred2), '/ %.3f'%r2_score(y_test3, y_pred3), '/ %.3f'%r2_score(y_test4, y_pred4), '/ %.3f'%r2_score(y_train3, y_pred5))"
   ]
  },
  {
   "cell_type": "code",
   "execution_count": 553,
   "id": "63227722",
   "metadata": {},
   "outputs": [
    {
     "data": {
      "text/plain": [
       "1    70\n",
       "2    68\n",
       "3    16\n",
       "5     9\n",
       "6     8\n",
       "7    23\n",
       "Name: Type, dtype: int64"
      ]
     },
     "execution_count": 553,
     "metadata": {},
     "output_type": "execute_result"
    }
   ],
   "source": [
    "# количество значений целевой функции \"Type\" после удаления выбросов\n",
    "df2['Type'].value_counts().sort_index(ascending=True)"
   ]
  },
  {
   "cell_type": "code",
   "execution_count": null,
   "id": "a8998e39",
   "metadata": {},
   "outputs": [],
   "source": [
    "# данных после удаления выбросов стало еще меньше - есть риск переобучения (некорректной работы модели)"
   ]
  },
  {
   "cell_type": "markdown",
   "id": "bcd3003d",
   "metadata": {},
   "source": [
    "<h3>c) Напишите свое мнение, нужно ли исследовать данные на выбросы, для чего это делается, плюсы и минусы подхода."
   ]
  },
  {
   "cell_type": "markdown",
   "id": "b4883694",
   "metadata": {},
   "source": [
    "Оценка выбросов имеет важное значение, особенно если они составляют значительную долю данных. При анализе необходимо определить является ли выброс ошибкой и оценить степень его влияния на выбор и эффективность модели.\n",
    "На начальном этапе можно использовать визуальную оценку boxplot, а также графики распределений признаков. Минус такого подхода - возможность ошибок в связи неправильным описанием связей между значениями. \n",
    "Для более сложных задач рекомендуется использование методов, основанных на плотности и расстоянии данных. При этом отдельное внимание нужно уделить размеру выборок, распределению признаков и количеству классификаций. Основная идея заключается в том, что выбросы находятся дальше, чем их соседи - другие (нормальные) точки. Учитывая этот принцип можно использовать машинное обучение на основе методов ближайших соседей, Z-оценки, межквартильного диапазона, кластеризации."
   ]
  }
 ],
 "metadata": {
  "kernelspec": {
   "display_name": "Python 3",
   "language": "python",
   "name": "python3"
  },
  "language_info": {
   "codemirror_mode": {
    "name": "ipython",
    "version": 3
   },
   "file_extension": ".py",
   "mimetype": "text/x-python",
   "name": "python",
   "nbconvert_exporter": "python",
   "pygments_lexer": "ipython3",
   "version": "3.9.12"
  }
 },
 "nbformat": 4,
 "nbformat_minor": 5
}
