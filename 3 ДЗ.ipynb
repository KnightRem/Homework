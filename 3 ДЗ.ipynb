{
 "cells": [
  {
   "cell_type": "markdown",
   "metadata": {},
   "source": [
    "# <h2> 1. Преобразуйте данные:\n",
    "\n",
    "a. проверьте наличие пропущенных значений. Преобразуйте/удалите пропуски по необходимости;\n",
    "\n",
    "b. закодируйте категориальные переменные числовыми значениями по необходимости. <h2>"
   ]
  },
  {
   "cell_type": "code",
   "execution_count": 41,
   "metadata": {},
   "outputs": [],
   "source": [
    "import pandas as pd\n",
    "import numpy as np\n",
    "import pylab"
   ]
  },
  {
   "cell_type": "code",
   "execution_count": 14,
   "metadata": {},
   "outputs": [
    {
     "data": {
      "text/html": [
       "<div>\n",
       "<style scoped>\n",
       "    .dataframe tbody tr th:only-of-type {\n",
       "        vertical-align: middle;\n",
       "    }\n",
       "\n",
       "    .dataframe tbody tr th {\n",
       "        vertical-align: top;\n",
       "    }\n",
       "\n",
       "    .dataframe thead th {\n",
       "        text-align: right;\n",
       "    }\n",
       "</style>\n",
       "<table border=\"1\" class=\"dataframe\">\n",
       "  <thead>\n",
       "    <tr style=\"text-align: right;\">\n",
       "      <th></th>\n",
       "      <th>id</th>\n",
       "      <th>name</th>\n",
       "      <th>nationality</th>\n",
       "      <th>sex</th>\n",
       "      <th>dob</th>\n",
       "      <th>height</th>\n",
       "      <th>weight</th>\n",
       "      <th>sport</th>\n",
       "      <th>gold</th>\n",
       "      <th>silver</th>\n",
       "      <th>bronze</th>\n",
       "    </tr>\n",
       "  </thead>\n",
       "  <tbody>\n",
       "    <tr>\n",
       "      <th>0</th>\n",
       "      <td>736041664</td>\n",
       "      <td>A Jesus Garcia</td>\n",
       "      <td>ESP</td>\n",
       "      <td>male</td>\n",
       "      <td>10/17/69</td>\n",
       "      <td>1.72</td>\n",
       "      <td>64.0</td>\n",
       "      <td>athletics</td>\n",
       "      <td>0</td>\n",
       "      <td>0</td>\n",
       "      <td>0</td>\n",
       "    </tr>\n",
       "    <tr>\n",
       "      <th>1</th>\n",
       "      <td>532037425</td>\n",
       "      <td>A Lam Shin</td>\n",
       "      <td>KOR</td>\n",
       "      <td>female</td>\n",
       "      <td>9/23/86</td>\n",
       "      <td>1.68</td>\n",
       "      <td>56.0</td>\n",
       "      <td>fencing</td>\n",
       "      <td>0</td>\n",
       "      <td>0</td>\n",
       "      <td>0</td>\n",
       "    </tr>\n",
       "    <tr>\n",
       "      <th>2</th>\n",
       "      <td>435962603</td>\n",
       "      <td>Aaron Brown</td>\n",
       "      <td>CAN</td>\n",
       "      <td>male</td>\n",
       "      <td>5/27/92</td>\n",
       "      <td>1.98</td>\n",
       "      <td>79.0</td>\n",
       "      <td>athletics</td>\n",
       "      <td>0</td>\n",
       "      <td>0</td>\n",
       "      <td>1</td>\n",
       "    </tr>\n",
       "    <tr>\n",
       "      <th>3</th>\n",
       "      <td>521041435</td>\n",
       "      <td>Aaron Cook</td>\n",
       "      <td>MDA</td>\n",
       "      <td>male</td>\n",
       "      <td>1/2/91</td>\n",
       "      <td>1.83</td>\n",
       "      <td>80.0</td>\n",
       "      <td>taekwondo</td>\n",
       "      <td>0</td>\n",
       "      <td>0</td>\n",
       "      <td>0</td>\n",
       "    </tr>\n",
       "    <tr>\n",
       "      <th>4</th>\n",
       "      <td>33922579</td>\n",
       "      <td>Aaron Gate</td>\n",
       "      <td>NZL</td>\n",
       "      <td>male</td>\n",
       "      <td>11/26/90</td>\n",
       "      <td>1.81</td>\n",
       "      <td>71.0</td>\n",
       "      <td>cycling</td>\n",
       "      <td>0</td>\n",
       "      <td>0</td>\n",
       "      <td>0</td>\n",
       "    </tr>\n",
       "  </tbody>\n",
       "</table>\n",
       "</div>"
      ],
      "text/plain": [
       "          id            name nationality     sex       dob  height  weight  \\\n",
       "0  736041664  A Jesus Garcia         ESP    male  10/17/69    1.72    64.0   \n",
       "1  532037425      A Lam Shin         KOR  female   9/23/86    1.68    56.0   \n",
       "2  435962603     Aaron Brown         CAN    male   5/27/92    1.98    79.0   \n",
       "3  521041435      Aaron Cook         MDA    male    1/2/91    1.83    80.0   \n",
       "4   33922579      Aaron Gate         NZL    male  11/26/90    1.81    71.0   \n",
       "\n",
       "       sport  gold  silver  bronze  \n",
       "0  athletics     0       0       0  \n",
       "1    fencing     0       0       0  \n",
       "2  athletics     0       0       1  \n",
       "3  taekwondo     0       0       0  \n",
       "4    cycling     0       0       0  "
      ]
     },
     "execution_count": 14,
     "metadata": {},
     "output_type": "execute_result"
    }
   ],
   "source": [
    "# загружаем данные\n",
    "data = pd.read_csv('athletes.csv')\n",
    "data.head()"
   ]
  },
  {
   "cell_type": "code",
   "execution_count": 15,
   "metadata": {},
   "outputs": [
    {
     "name": "stdout",
     "output_type": "stream",
     "text": [
      "<class 'pandas.core.frame.DataFrame'>\n",
      "RangeIndex: 11538 entries, 0 to 11537\n",
      "Data columns (total 11 columns):\n",
      " #   Column       Non-Null Count  Dtype  \n",
      "---  ------       --------------  -----  \n",
      " 0   id           11538 non-null  int64  \n",
      " 1   name         11538 non-null  object \n",
      " 2   nationality  11538 non-null  object \n",
      " 3   sex          11538 non-null  object \n",
      " 4   dob          11537 non-null  object \n",
      " 5   height       11208 non-null  float64\n",
      " 6   weight       10879 non-null  float64\n",
      " 7   sport        11538 non-null  object \n",
      " 8   gold         11538 non-null  int64  \n",
      " 9   silver       11538 non-null  int64  \n",
      " 10  bronze       11538 non-null  int64  \n",
      "dtypes: float64(2), int64(4), object(5)\n",
      "memory usage: 991.7+ KB\n"
     ]
    }
   ],
   "source": [
    "data.info()"
   ]
  },
  {
   "cell_type": "code",
   "execution_count": 16,
   "metadata": {},
   "outputs": [
    {
     "name": "stdout",
     "output_type": "stream",
     "text": [
      "Для height пустых строк 330\n",
      "Для weight пустых строк 659\n",
      "Для sport пустых строк 0\n",
      "Всего строк в наборе 11538\n"
     ]
    }
   ],
   "source": [
    "#Расчет количества пустых значений в признаках \n",
    "print('Для height пустых строк ' + str( len( data[ pd.isnull( data['height'] ) ] ) ))\n",
    "print('Для weight пустых строк ' + str( len( data[ pd.isnull( data['weight'] ) ] ) ))\n",
    "print('Для sport пустых строк ' + str( len( data[ pd.isnull( data['sport'] ) ] ) ))\n",
    "print('Всего строк в наборе ' + str( len( data ) ))"
   ]
  },
  {
   "cell_type": "code",
   "execution_count": 17,
   "metadata": {},
   "outputs": [
    {
     "data": {
      "text/plain": [
       "id               0\n",
       "name             0\n",
       "nationality      0\n",
       "sex              0\n",
       "dob              1\n",
       "height         330\n",
       "weight         659\n",
       "sport            0\n",
       "gold             0\n",
       "silver           0\n",
       "bronze           0\n",
       "dtype: int64"
      ]
     },
     "execution_count": 17,
     "metadata": {},
     "output_type": "execute_result"
    }
   ],
   "source": [
    "#расчет количнества нулевых значений всего\n",
    "data.isnull().sum()"
   ]
  },
  {
   "cell_type": "code",
   "execution_count": 18,
   "metadata": {},
   "outputs": [
    {
     "name": "stdout",
     "output_type": "stream",
     "text": [
      "name ['A Jesus Garcia' 'A Lam Shin' 'Aaron Brown' ... 'di Xiao'\n",
      " 'le Quoc Toan Tran' 'le Roux Hamman']\n",
      "nationality ['ESP' 'KOR' 'CAN' 'MDA' 'NZL' 'AUS' 'USA' 'ETH' 'BRN' 'IOA' 'GBR' 'UZB'\n",
      " 'RSA' 'EGY' 'MAR' 'QAT' 'SUD' 'ALG' 'DEN' 'NED' 'DJI' 'SEN' 'CMR' 'ITA'\n",
      " 'NIG' 'SWE' 'GHA' 'AFG' 'AZE' 'KSA' 'BAN' 'NGR' 'RUS' 'IND' 'HUN' 'KAZ'\n",
      " 'BDI' 'ERI' 'POL' 'BRA' 'GEO' 'CZE' 'SEY' 'GAM' 'LTU' 'IRI' 'ROU' 'CUB'\n",
      " 'SLO' 'BAH' 'ARG' 'PUR' 'FRA' 'RWA' 'TOG' 'MDV' 'TUN' 'ISR' 'LAT' 'JOR'\n",
      " 'MAS' 'LIB' 'LBA' 'PLE' 'IRQ' 'TUR' 'VEN' 'JPN' 'TPE' 'KGZ' 'CHN' 'MEX'\n",
      " 'GRE' 'IRL' 'JAM' 'SUI' 'BAR' 'HON' 'ANG' 'GER' 'COL' 'URU' 'MNE' 'SRB'\n",
      " 'BUL' 'FIN' 'UKR' 'BLR' 'SMR' 'COK' 'SAM' 'AUT' 'BEL' 'KEN' 'SVK' 'POR'\n",
      " 'ECU' 'UAE' 'NAM' 'GUY' 'EST' 'SKN' 'ARU' 'PAN' 'PER' 'TAN' 'FIJ' 'GUI'\n",
      " 'NOR' 'ARM' 'THA' 'SIN' 'TKM' 'CRO' 'BIH' 'TGA' 'MAW' 'DOM' 'GUA' 'MKD'\n",
      " 'TJK' 'CYP' 'CHI' 'MLT' 'ZIM' 'TTO' 'CRC' 'BOL' 'BUR' 'ISL' 'HAI' 'ROT'\n",
      " 'MGL' 'MAD' 'GAB' 'SRI' 'LAO' 'MRI' 'PAR' 'IVB' 'GBS' 'TLS' 'MLI' 'SYR'\n",
      " 'BOT' 'CHA' 'OMA' 'COD' 'CIV' 'GEQ' 'UGA' 'GUM' 'ASA' 'ZAM' 'VAN' 'GRN'\n",
      " 'BIZ' 'VIN' 'MON' 'ALB' 'STP' 'SLE' 'BER' 'HKG' 'ISV' 'CGO' 'ANT' 'BEN'\n",
      " 'LUX' 'PHI' 'CAF' 'PRK' 'LIE' 'MHL' 'NCA' 'KIR' 'CPV' 'INA' 'FSM' 'COM'\n",
      " 'PLW' 'MYA' 'NRU' 'LBR' 'ESA' 'AND' 'TUV' 'SUR' 'CAY' 'NEP' 'PAK' 'SSD'\n",
      " 'MTN' 'VIE' 'MOZ' 'LES' 'LCA' 'BRU' 'SOL' 'BHU' 'CAM' 'KOS' 'SOM' 'PNG'\n",
      " 'YEM' 'SWZ' 'DMA']\n",
      "sex ['male' 'female']\n",
      "dob ['10/17/69' '9/23/86' '5/27/92' ... '6/9/93' '2/7/88' '4/6/00']\n",
      "height [1.72 1.68 1.98 1.83 1.81 1.8  2.05 1.93 1.65 1.7  1.75  nan 1.61 1.78\n",
      " 1.76 2.1  1.73 1.85 1.77 1.9  1.86 1.74 1.6  2.07 1.88 1.66 1.62 1.87\n",
      " 2.03 1.69 1.82 1.89 1.94 1.95 1.71 1.84 1.91 1.67 2.02 1.58 1.63 1.79\n",
      " 1.97 1.56 1.55 1.57 1.46 1.92 1.64 1.53 1.99 1.96 2.   2.04 1.47 1.52\n",
      " 2.01 1.51 1.59 2.08 1.37 1.5  1.45 2.06 1.54 2.11 1.43 1.49 1.33 1.48\n",
      " 1.44 2.13 2.09 2.21 2.18 1.21 1.38 1.34 2.15 2.17 1.42 1.4  2.14]\n",
      "weight [ 64.  56.  79.  80.  71.  67.  98. 100.  62.  54.  63.  66.  nan  49.\n",
      "  68.  57.  88.  65.  72.  75.  70.  95. 120.  90.  60.  73.  84. 132.\n",
      "  86.  77.  61.  76.  52.  58.  81. 115. 130.  92.  94.  93.  85.  82.\n",
      "  55.  78.  83.  89.  69.  87.  50. 105.  53.  47.  59.  51. 144.  99.\n",
      "  48.  44. 125.  35.  46.  74. 113. 102.  96. 107. 110.  97.  45.  91.\n",
      " 138. 136. 149.  43. 117.  42. 101. 114. 104. 122. 108.  39. 140.  37.\n",
      " 118. 135. 106. 170. 103. 139. 112. 109. 123.  34. 128. 155.  40. 145.\n",
      " 160. 127. 163.  31. 137. 116. 119. 165.  36. 133. 150. 148. 157.  41.\n",
      " 143. 111. 121. 126. 159. 152. 146. 124. 134. 142. 154.  33.]\n",
      "sport ['athletics' 'fencing' 'taekwondo' 'cycling' 'triathlon' 'volleyball'\n",
      " 'aquatics' 'rugby sevens' 'wrestling' 'football' 'shooting' 'boxing'\n",
      " 'equestrian' 'rowing' 'judo' 'handball' 'badminton' 'hockey'\n",
      " 'modern pentathlon' 'table tennis' 'canoe' 'basketball' 'golf' 'archery'\n",
      " 'weightlifting' 'sailing' 'tennis' 'gymnastics']\n",
      "gold [0 1 2 3 4 5]\n",
      "silver [0 1 2]\n",
      "bronze [0 1 2]\n"
     ]
    }
   ],
   "source": [
    "# просмотр уникальных значений кроме 'id'\n",
    "data2=data.drop('id', axis=1)\n",
    "for col in data2:\n",
    "    print(col,data2[col].unique())"
   ]
  },
  {
   "cell_type": "code",
   "execution_count": 19,
   "metadata": {},
   "outputs": [
    {
     "data": {
      "text/plain": [
       "id             0\n",
       "name           0\n",
       "nationality    0\n",
       "sex            0\n",
       "dob            0\n",
       "height         0\n",
       "weight         0\n",
       "sport          0\n",
       "gold           0\n",
       "silver         0\n",
       "bronze         0\n",
       "dtype: int64"
      ]
     },
     "execution_count": 19,
     "metadata": {},
     "output_type": "execute_result"
    }
   ],
   "source": [
    "# заменяем отсутствующие значения Модой\n",
    "cols = list(data)\n",
    "data[cols]=data[cols].fillna(data.mode().iloc[0])\n",
    "data.isnull().sum()"
   ]
  },
  {
   "cell_type": "markdown",
   "metadata": {},
   "source": [
    "# <h2>2.\tРазделите выборку на обучающее (80% данных) и тестовое (20% данных) подмножества. <h2>"
   ]
  },
  {
   "cell_type": "code",
   "execution_count": 20,
   "metadata": {
    "run_control": {
     "marked": false
    }
   },
   "outputs": [],
   "source": [
    "from sklearn.linear_model import LogisticRegression\n",
    "from sklearn.model_selection import train_test_split"
   ]
  },
  {
   "cell_type": "code",
   "execution_count": 21,
   "metadata": {},
   "outputs": [],
   "source": [
    "from sklearn.preprocessing import LabelEncoder, OneHotEncoder,LabelBinarizer\n",
    "le = LabelEncoder()\n",
    "ohe = OneHotEncoder()\n",
    "lb = LabelBinarizer()"
   ]
  },
  {
   "cell_type": "code",
   "execution_count": 22,
   "metadata": {},
   "outputs": [
    {
     "data": {
      "text/html": [
       "<div>\n",
       "<style scoped>\n",
       "    .dataframe tbody tr th:only-of-type {\n",
       "        vertical-align: middle;\n",
       "    }\n",
       "\n",
       "    .dataframe tbody tr th {\n",
       "        vertical-align: top;\n",
       "    }\n",
       "\n",
       "    .dataframe thead th {\n",
       "        text-align: right;\n",
       "    }\n",
       "</style>\n",
       "<table border=\"1\" class=\"dataframe\">\n",
       "  <thead>\n",
       "    <tr style=\"text-align: right;\">\n",
       "      <th></th>\n",
       "      <th>height</th>\n",
       "      <th>weight</th>\n",
       "      <th>sport_aquatics</th>\n",
       "      <th>sport_archery</th>\n",
       "      <th>sport_athletics</th>\n",
       "      <th>sport_badminton</th>\n",
       "      <th>sport_basketball</th>\n",
       "      <th>sport_boxing</th>\n",
       "      <th>sport_canoe</th>\n",
       "      <th>sport_cycling</th>\n",
       "      <th>...</th>\n",
       "      <th>sport_rugby sevens</th>\n",
       "      <th>sport_sailing</th>\n",
       "      <th>sport_shooting</th>\n",
       "      <th>sport_table tennis</th>\n",
       "      <th>sport_taekwondo</th>\n",
       "      <th>sport_tennis</th>\n",
       "      <th>sport_triathlon</th>\n",
       "      <th>sport_volleyball</th>\n",
       "      <th>sport_weightlifting</th>\n",
       "      <th>sport_wrestling</th>\n",
       "    </tr>\n",
       "  </thead>\n",
       "  <tbody>\n",
       "    <tr>\n",
       "      <th>0</th>\n",
       "      <td>1.72</td>\n",
       "      <td>64.0</td>\n",
       "      <td>0</td>\n",
       "      <td>0</td>\n",
       "      <td>1</td>\n",
       "      <td>0</td>\n",
       "      <td>0</td>\n",
       "      <td>0</td>\n",
       "      <td>0</td>\n",
       "      <td>0</td>\n",
       "      <td>...</td>\n",
       "      <td>0</td>\n",
       "      <td>0</td>\n",
       "      <td>0</td>\n",
       "      <td>0</td>\n",
       "      <td>0</td>\n",
       "      <td>0</td>\n",
       "      <td>0</td>\n",
       "      <td>0</td>\n",
       "      <td>0</td>\n",
       "      <td>0</td>\n",
       "    </tr>\n",
       "    <tr>\n",
       "      <th>1</th>\n",
       "      <td>1.68</td>\n",
       "      <td>56.0</td>\n",
       "      <td>0</td>\n",
       "      <td>0</td>\n",
       "      <td>0</td>\n",
       "      <td>0</td>\n",
       "      <td>0</td>\n",
       "      <td>0</td>\n",
       "      <td>0</td>\n",
       "      <td>0</td>\n",
       "      <td>...</td>\n",
       "      <td>0</td>\n",
       "      <td>0</td>\n",
       "      <td>0</td>\n",
       "      <td>0</td>\n",
       "      <td>0</td>\n",
       "      <td>0</td>\n",
       "      <td>0</td>\n",
       "      <td>0</td>\n",
       "      <td>0</td>\n",
       "      <td>0</td>\n",
       "    </tr>\n",
       "    <tr>\n",
       "      <th>2</th>\n",
       "      <td>1.98</td>\n",
       "      <td>79.0</td>\n",
       "      <td>0</td>\n",
       "      <td>0</td>\n",
       "      <td>1</td>\n",
       "      <td>0</td>\n",
       "      <td>0</td>\n",
       "      <td>0</td>\n",
       "      <td>0</td>\n",
       "      <td>0</td>\n",
       "      <td>...</td>\n",
       "      <td>0</td>\n",
       "      <td>0</td>\n",
       "      <td>0</td>\n",
       "      <td>0</td>\n",
       "      <td>0</td>\n",
       "      <td>0</td>\n",
       "      <td>0</td>\n",
       "      <td>0</td>\n",
       "      <td>0</td>\n",
       "      <td>0</td>\n",
       "    </tr>\n",
       "    <tr>\n",
       "      <th>3</th>\n",
       "      <td>1.83</td>\n",
       "      <td>80.0</td>\n",
       "      <td>0</td>\n",
       "      <td>0</td>\n",
       "      <td>0</td>\n",
       "      <td>0</td>\n",
       "      <td>0</td>\n",
       "      <td>0</td>\n",
       "      <td>0</td>\n",
       "      <td>0</td>\n",
       "      <td>...</td>\n",
       "      <td>0</td>\n",
       "      <td>0</td>\n",
       "      <td>0</td>\n",
       "      <td>0</td>\n",
       "      <td>1</td>\n",
       "      <td>0</td>\n",
       "      <td>0</td>\n",
       "      <td>0</td>\n",
       "      <td>0</td>\n",
       "      <td>0</td>\n",
       "    </tr>\n",
       "    <tr>\n",
       "      <th>4</th>\n",
       "      <td>1.81</td>\n",
       "      <td>71.0</td>\n",
       "      <td>0</td>\n",
       "      <td>0</td>\n",
       "      <td>0</td>\n",
       "      <td>0</td>\n",
       "      <td>0</td>\n",
       "      <td>0</td>\n",
       "      <td>0</td>\n",
       "      <td>1</td>\n",
       "      <td>...</td>\n",
       "      <td>0</td>\n",
       "      <td>0</td>\n",
       "      <td>0</td>\n",
       "      <td>0</td>\n",
       "      <td>0</td>\n",
       "      <td>0</td>\n",
       "      <td>0</td>\n",
       "      <td>0</td>\n",
       "      <td>0</td>\n",
       "      <td>0</td>\n",
       "    </tr>\n",
       "  </tbody>\n",
       "</table>\n",
       "<p>5 rows × 30 columns</p>\n",
       "</div>"
      ],
      "text/plain": [
       "   height  weight  sport_aquatics  sport_archery  sport_athletics  \\\n",
       "0    1.72    64.0               0              0                1   \n",
       "1    1.68    56.0               0              0                0   \n",
       "2    1.98    79.0               0              0                1   \n",
       "3    1.83    80.0               0              0                0   \n",
       "4    1.81    71.0               0              0                0   \n",
       "\n",
       "   sport_badminton  sport_basketball  sport_boxing  sport_canoe  \\\n",
       "0                0                 0             0            0   \n",
       "1                0                 0             0            0   \n",
       "2                0                 0             0            0   \n",
       "3                0                 0             0            0   \n",
       "4                0                 0             0            0   \n",
       "\n",
       "   sport_cycling  ...  sport_rugby sevens  sport_sailing  sport_shooting  \\\n",
       "0              0  ...                   0              0               0   \n",
       "1              0  ...                   0              0               0   \n",
       "2              0  ...                   0              0               0   \n",
       "3              0  ...                   0              0               0   \n",
       "4              1  ...                   0              0               0   \n",
       "\n",
       "   sport_table tennis  sport_taekwondo  sport_tennis  sport_triathlon  \\\n",
       "0                   0                0             0                0   \n",
       "1                   0                0             0                0   \n",
       "2                   0                0             0                0   \n",
       "3                   0                1             0                0   \n",
       "4                   0                0             0                0   \n",
       "\n",
       "   sport_volleyball  sport_weightlifting  sport_wrestling  \n",
       "0                 0                    0                0  \n",
       "1                 0                    0                0  \n",
       "2                 0                    0                0  \n",
       "3                 0                    0                0  \n",
       "4                 0                    0                0  \n",
       "\n",
       "[5 rows x 30 columns]"
      ]
     },
     "execution_count": 22,
     "metadata": {},
     "output_type": "execute_result"
    }
   ],
   "source": [
    "# оставляем столбцы исходных данных. Перекодируем категорию sport\n",
    "X = pd.get_dummies( data, columns = [ 'sport'] )\n",
    "X=X.drop(columns=['id','name','sex','dob','nationality', 'gold', 'silver', 'bronze'])\n",
    "\n",
    "X.head()"
   ]
  },
  {
   "cell_type": "code",
   "execution_count": 23,
   "metadata": {},
   "outputs": [
    {
     "data": {
      "text/html": [
       "<div>\n",
       "<style scoped>\n",
       "    .dataframe tbody tr th:only-of-type {\n",
       "        vertical-align: middle;\n",
       "    }\n",
       "\n",
       "    .dataframe tbody tr th {\n",
       "        vertical-align: top;\n",
       "    }\n",
       "\n",
       "    .dataframe thead th {\n",
       "        text-align: right;\n",
       "    }\n",
       "</style>\n",
       "<table border=\"1\" class=\"dataframe\">\n",
       "  <thead>\n",
       "    <tr style=\"text-align: right;\">\n",
       "      <th></th>\n",
       "      <th>height</th>\n",
       "      <th>weight</th>\n",
       "      <th>sport_aquatics</th>\n",
       "      <th>sport_archery</th>\n",
       "      <th>sport_athletics</th>\n",
       "      <th>sport_badminton</th>\n",
       "      <th>sport_basketball</th>\n",
       "      <th>sport_boxing</th>\n",
       "      <th>sport_canoe</th>\n",
       "      <th>sport_cycling</th>\n",
       "      <th>...</th>\n",
       "      <th>sport_rugby sevens</th>\n",
       "      <th>sport_sailing</th>\n",
       "      <th>sport_shooting</th>\n",
       "      <th>sport_table tennis</th>\n",
       "      <th>sport_taekwondo</th>\n",
       "      <th>sport_tennis</th>\n",
       "      <th>sport_triathlon</th>\n",
       "      <th>sport_volleyball</th>\n",
       "      <th>sport_weightlifting</th>\n",
       "      <th>sport_wrestling</th>\n",
       "    </tr>\n",
       "  </thead>\n",
       "  <tbody>\n",
       "    <tr>\n",
       "      <th>0</th>\n",
       "      <td>0.51</td>\n",
       "      <td>0.237410</td>\n",
       "      <td>0.0</td>\n",
       "      <td>0.0</td>\n",
       "      <td>1.0</td>\n",
       "      <td>0.0</td>\n",
       "      <td>0.0</td>\n",
       "      <td>0.0</td>\n",
       "      <td>0.0</td>\n",
       "      <td>0.0</td>\n",
       "      <td>...</td>\n",
       "      <td>0.0</td>\n",
       "      <td>0.0</td>\n",
       "      <td>0.0</td>\n",
       "      <td>0.0</td>\n",
       "      <td>0.0</td>\n",
       "      <td>0.0</td>\n",
       "      <td>0.0</td>\n",
       "      <td>0.0</td>\n",
       "      <td>0.0</td>\n",
       "      <td>0.0</td>\n",
       "    </tr>\n",
       "    <tr>\n",
       "      <th>1</th>\n",
       "      <td>0.47</td>\n",
       "      <td>0.179856</td>\n",
       "      <td>0.0</td>\n",
       "      <td>0.0</td>\n",
       "      <td>0.0</td>\n",
       "      <td>0.0</td>\n",
       "      <td>0.0</td>\n",
       "      <td>0.0</td>\n",
       "      <td>0.0</td>\n",
       "      <td>0.0</td>\n",
       "      <td>...</td>\n",
       "      <td>0.0</td>\n",
       "      <td>0.0</td>\n",
       "      <td>0.0</td>\n",
       "      <td>0.0</td>\n",
       "      <td>0.0</td>\n",
       "      <td>0.0</td>\n",
       "      <td>0.0</td>\n",
       "      <td>0.0</td>\n",
       "      <td>0.0</td>\n",
       "      <td>0.0</td>\n",
       "    </tr>\n",
       "    <tr>\n",
       "      <th>2</th>\n",
       "      <td>0.77</td>\n",
       "      <td>0.345324</td>\n",
       "      <td>0.0</td>\n",
       "      <td>0.0</td>\n",
       "      <td>1.0</td>\n",
       "      <td>0.0</td>\n",
       "      <td>0.0</td>\n",
       "      <td>0.0</td>\n",
       "      <td>0.0</td>\n",
       "      <td>0.0</td>\n",
       "      <td>...</td>\n",
       "      <td>0.0</td>\n",
       "      <td>0.0</td>\n",
       "      <td>0.0</td>\n",
       "      <td>0.0</td>\n",
       "      <td>0.0</td>\n",
       "      <td>0.0</td>\n",
       "      <td>0.0</td>\n",
       "      <td>0.0</td>\n",
       "      <td>0.0</td>\n",
       "      <td>0.0</td>\n",
       "    </tr>\n",
       "    <tr>\n",
       "      <th>3</th>\n",
       "      <td>0.62</td>\n",
       "      <td>0.352518</td>\n",
       "      <td>0.0</td>\n",
       "      <td>0.0</td>\n",
       "      <td>0.0</td>\n",
       "      <td>0.0</td>\n",
       "      <td>0.0</td>\n",
       "      <td>0.0</td>\n",
       "      <td>0.0</td>\n",
       "      <td>0.0</td>\n",
       "      <td>...</td>\n",
       "      <td>0.0</td>\n",
       "      <td>0.0</td>\n",
       "      <td>0.0</td>\n",
       "      <td>0.0</td>\n",
       "      <td>1.0</td>\n",
       "      <td>0.0</td>\n",
       "      <td>0.0</td>\n",
       "      <td>0.0</td>\n",
       "      <td>0.0</td>\n",
       "      <td>0.0</td>\n",
       "    </tr>\n",
       "    <tr>\n",
       "      <th>4</th>\n",
       "      <td>0.60</td>\n",
       "      <td>0.287770</td>\n",
       "      <td>0.0</td>\n",
       "      <td>0.0</td>\n",
       "      <td>0.0</td>\n",
       "      <td>0.0</td>\n",
       "      <td>0.0</td>\n",
       "      <td>0.0</td>\n",
       "      <td>0.0</td>\n",
       "      <td>1.0</td>\n",
       "      <td>...</td>\n",
       "      <td>0.0</td>\n",
       "      <td>0.0</td>\n",
       "      <td>0.0</td>\n",
       "      <td>0.0</td>\n",
       "      <td>0.0</td>\n",
       "      <td>0.0</td>\n",
       "      <td>0.0</td>\n",
       "      <td>0.0</td>\n",
       "      <td>0.0</td>\n",
       "      <td>0.0</td>\n",
       "    </tr>\n",
       "    <tr>\n",
       "      <th>...</th>\n",
       "      <td>...</td>\n",
       "      <td>...</td>\n",
       "      <td>...</td>\n",
       "      <td>...</td>\n",
       "      <td>...</td>\n",
       "      <td>...</td>\n",
       "      <td>...</td>\n",
       "      <td>...</td>\n",
       "      <td>...</td>\n",
       "      <td>...</td>\n",
       "      <td>...</td>\n",
       "      <td>...</td>\n",
       "      <td>...</td>\n",
       "      <td>...</td>\n",
       "      <td>...</td>\n",
       "      <td>...</td>\n",
       "      <td>...</td>\n",
       "      <td>...</td>\n",
       "      <td>...</td>\n",
       "      <td>...</td>\n",
       "      <td>...</td>\n",
       "    </tr>\n",
       "    <tr>\n",
       "      <th>11533</th>\n",
       "      <td>0.43</td>\n",
       "      <td>0.194245</td>\n",
       "      <td>0.0</td>\n",
       "      <td>0.0</td>\n",
       "      <td>1.0</td>\n",
       "      <td>0.0</td>\n",
       "      <td>0.0</td>\n",
       "      <td>0.0</td>\n",
       "      <td>0.0</td>\n",
       "      <td>0.0</td>\n",
       "      <td>...</td>\n",
       "      <td>0.0</td>\n",
       "      <td>0.0</td>\n",
       "      <td>0.0</td>\n",
       "      <td>0.0</td>\n",
       "      <td>0.0</td>\n",
       "      <td>0.0</td>\n",
       "      <td>0.0</td>\n",
       "      <td>0.0</td>\n",
       "      <td>0.0</td>\n",
       "      <td>0.0</td>\n",
       "    </tr>\n",
       "    <tr>\n",
       "      <th>11534</th>\n",
       "      <td>0.52</td>\n",
       "      <td>0.230216</td>\n",
       "      <td>0.0</td>\n",
       "      <td>0.0</td>\n",
       "      <td>1.0</td>\n",
       "      <td>0.0</td>\n",
       "      <td>0.0</td>\n",
       "      <td>0.0</td>\n",
       "      <td>0.0</td>\n",
       "      <td>0.0</td>\n",
       "      <td>...</td>\n",
       "      <td>0.0</td>\n",
       "      <td>0.0</td>\n",
       "      <td>0.0</td>\n",
       "      <td>0.0</td>\n",
       "      <td>0.0</td>\n",
       "      <td>0.0</td>\n",
       "      <td>0.0</td>\n",
       "      <td>0.0</td>\n",
       "      <td>0.0</td>\n",
       "      <td>0.0</td>\n",
       "    </tr>\n",
       "    <tr>\n",
       "      <th>11535</th>\n",
       "      <td>0.64</td>\n",
       "      <td>0.496403</td>\n",
       "      <td>0.0</td>\n",
       "      <td>0.0</td>\n",
       "      <td>0.0</td>\n",
       "      <td>0.0</td>\n",
       "      <td>0.0</td>\n",
       "      <td>0.0</td>\n",
       "      <td>0.0</td>\n",
       "      <td>0.0</td>\n",
       "      <td>...</td>\n",
       "      <td>0.0</td>\n",
       "      <td>0.0</td>\n",
       "      <td>0.0</td>\n",
       "      <td>0.0</td>\n",
       "      <td>0.0</td>\n",
       "      <td>0.0</td>\n",
       "      <td>0.0</td>\n",
       "      <td>0.0</td>\n",
       "      <td>0.0</td>\n",
       "      <td>1.0</td>\n",
       "    </tr>\n",
       "    <tr>\n",
       "      <th>11536</th>\n",
       "      <td>0.39</td>\n",
       "      <td>0.179856</td>\n",
       "      <td>0.0</td>\n",
       "      <td>0.0</td>\n",
       "      <td>0.0</td>\n",
       "      <td>0.0</td>\n",
       "      <td>0.0</td>\n",
       "      <td>0.0</td>\n",
       "      <td>0.0</td>\n",
       "      <td>0.0</td>\n",
       "      <td>...</td>\n",
       "      <td>0.0</td>\n",
       "      <td>0.0</td>\n",
       "      <td>0.0</td>\n",
       "      <td>0.0</td>\n",
       "      <td>0.0</td>\n",
       "      <td>0.0</td>\n",
       "      <td>0.0</td>\n",
       "      <td>0.0</td>\n",
       "      <td>1.0</td>\n",
       "      <td>0.0</td>\n",
       "    </tr>\n",
       "    <tr>\n",
       "      <th>11537</th>\n",
       "      <td>0.64</td>\n",
       "      <td>0.280576</td>\n",
       "      <td>0.0</td>\n",
       "      <td>0.0</td>\n",
       "      <td>1.0</td>\n",
       "      <td>0.0</td>\n",
       "      <td>0.0</td>\n",
       "      <td>0.0</td>\n",
       "      <td>0.0</td>\n",
       "      <td>0.0</td>\n",
       "      <td>...</td>\n",
       "      <td>0.0</td>\n",
       "      <td>0.0</td>\n",
       "      <td>0.0</td>\n",
       "      <td>0.0</td>\n",
       "      <td>0.0</td>\n",
       "      <td>0.0</td>\n",
       "      <td>0.0</td>\n",
       "      <td>0.0</td>\n",
       "      <td>0.0</td>\n",
       "      <td>0.0</td>\n",
       "    </tr>\n",
       "  </tbody>\n",
       "</table>\n",
       "<p>11538 rows × 30 columns</p>\n",
       "</div>"
      ],
      "text/plain": [
       "       height    weight  sport_aquatics  sport_archery  sport_athletics  \\\n",
       "0        0.51  0.237410             0.0            0.0              1.0   \n",
       "1        0.47  0.179856             0.0            0.0              0.0   \n",
       "2        0.77  0.345324             0.0            0.0              1.0   \n",
       "3        0.62  0.352518             0.0            0.0              0.0   \n",
       "4        0.60  0.287770             0.0            0.0              0.0   \n",
       "...       ...       ...             ...            ...              ...   \n",
       "11533    0.43  0.194245             0.0            0.0              1.0   \n",
       "11534    0.52  0.230216             0.0            0.0              1.0   \n",
       "11535    0.64  0.496403             0.0            0.0              0.0   \n",
       "11536    0.39  0.179856             0.0            0.0              0.0   \n",
       "11537    0.64  0.280576             0.0            0.0              1.0   \n",
       "\n",
       "       sport_badminton  sport_basketball  sport_boxing  sport_canoe  \\\n",
       "0                  0.0               0.0           0.0          0.0   \n",
       "1                  0.0               0.0           0.0          0.0   \n",
       "2                  0.0               0.0           0.0          0.0   \n",
       "3                  0.0               0.0           0.0          0.0   \n",
       "4                  0.0               0.0           0.0          0.0   \n",
       "...                ...               ...           ...          ...   \n",
       "11533              0.0               0.0           0.0          0.0   \n",
       "11534              0.0               0.0           0.0          0.0   \n",
       "11535              0.0               0.0           0.0          0.0   \n",
       "11536              0.0               0.0           0.0          0.0   \n",
       "11537              0.0               0.0           0.0          0.0   \n",
       "\n",
       "       sport_cycling  ...  sport_rugby sevens  sport_sailing  sport_shooting  \\\n",
       "0                0.0  ...                 0.0            0.0             0.0   \n",
       "1                0.0  ...                 0.0            0.0             0.0   \n",
       "2                0.0  ...                 0.0            0.0             0.0   \n",
       "3                0.0  ...                 0.0            0.0             0.0   \n",
       "4                1.0  ...                 0.0            0.0             0.0   \n",
       "...              ...  ...                 ...            ...             ...   \n",
       "11533            0.0  ...                 0.0            0.0             0.0   \n",
       "11534            0.0  ...                 0.0            0.0             0.0   \n",
       "11535            0.0  ...                 0.0            0.0             0.0   \n",
       "11536            0.0  ...                 0.0            0.0             0.0   \n",
       "11537            0.0  ...                 0.0            0.0             0.0   \n",
       "\n",
       "       sport_table tennis  sport_taekwondo  sport_tennis  sport_triathlon  \\\n",
       "0                     0.0              0.0           0.0              0.0   \n",
       "1                     0.0              0.0           0.0              0.0   \n",
       "2                     0.0              0.0           0.0              0.0   \n",
       "3                     0.0              1.0           0.0              0.0   \n",
       "4                     0.0              0.0           0.0              0.0   \n",
       "...                   ...              ...           ...              ...   \n",
       "11533                 0.0              0.0           0.0              0.0   \n",
       "11534                 0.0              0.0           0.0              0.0   \n",
       "11535                 0.0              0.0           0.0              0.0   \n",
       "11536                 0.0              0.0           0.0              0.0   \n",
       "11537                 0.0              0.0           0.0              0.0   \n",
       "\n",
       "       sport_volleyball  sport_weightlifting  sport_wrestling  \n",
       "0                   0.0                  0.0              0.0  \n",
       "1                   0.0                  0.0              0.0  \n",
       "2                   0.0                  0.0              0.0  \n",
       "3                   0.0                  0.0              0.0  \n",
       "4                   0.0                  0.0              0.0  \n",
       "...                 ...                  ...              ...  \n",
       "11533               0.0                  0.0              0.0  \n",
       "11534               0.0                  0.0              0.0  \n",
       "11535               0.0                  0.0              1.0  \n",
       "11536               0.0                  1.0              0.0  \n",
       "11537               0.0                  0.0              0.0  \n",
       "\n",
       "[11538 rows x 30 columns]"
      ]
     },
     "execution_count": 23,
     "metadata": {},
     "output_type": "execute_result"
    }
   ],
   "source": [
    "#Нормализуем данные\n",
    "X=(X-X.min())/(X.max()-X.min())\n",
    "X"
   ]
  },
  {
   "cell_type": "code",
   "execution_count": 24,
   "metadata": {},
   "outputs": [
    {
     "data": {
      "text/plain": [
       "(11538, 30)"
      ]
     },
     "execution_count": 24,
     "metadata": {},
     "output_type": "execute_result"
    }
   ],
   "source": [
    "X.shape"
   ]
  },
  {
   "cell_type": "code",
   "execution_count": 25,
   "metadata": {},
   "outputs": [
    {
     "data": {
      "text/plain": [
       "LabelEncoder()"
      ]
     },
     "execution_count": 25,
     "metadata": {},
     "output_type": "execute_result"
    }
   ],
   "source": [
    "le.fit( data['sex'] )"
   ]
  },
  {
   "cell_type": "code",
   "execution_count": 26,
   "metadata": {},
   "outputs": [
    {
     "data": {
      "text/plain": [
       "0    1\n",
       "1    0\n",
       "2    1\n",
       "3    1\n",
       "4    1\n",
       "dtype: int32"
      ]
     },
     "execution_count": 26,
     "metadata": {},
     "output_type": "execute_result"
    }
   ],
   "source": [
    "# задаем столбец целевой переменной и нормализуем ее\n",
    "y = pd.Series( data = le.transform( data['sex'] ) )\n",
    "y.head()"
   ]
  },
  {
   "cell_type": "code",
   "execution_count": 27,
   "metadata": {},
   "outputs": [],
   "source": [
    "#Определяем зависимость пола от роста, веса и вида спорта\n",
    "model = LogisticRegression()"
   ]
  },
  {
   "cell_type": "code",
   "execution_count": 28,
   "metadata": {},
   "outputs": [],
   "source": [
    "X_train, X_test, y_train, y_test = train_test_split(X, y, test_size=0.2)"
   ]
  },
  {
   "cell_type": "code",
   "execution_count": 29,
   "metadata": {},
   "outputs": [
    {
     "data": {
      "text/plain": [
       "LogisticRegression()"
      ]
     },
     "execution_count": 29,
     "metadata": {},
     "output_type": "execute_result"
    }
   ],
   "source": [
    "model.fit(X_train, y_train)"
   ]
  },
  {
   "cell_type": "markdown",
   "metadata": {},
   "source": [
    "# <h2>3. Постройте ROC-кривую с помощью функции sklearn.metrics. roc_curve. <h2>"
   ]
  },
  {
   "cell_type": "code",
   "execution_count": 30,
   "metadata": {
    "run_control": {
     "marked": true
    }
   },
   "outputs": [],
   "source": [
    "from sklearn.metrics import roc_curve"
   ]
  },
  {
   "cell_type": "code",
   "execution_count": 31,
   "metadata": {},
   "outputs": [],
   "source": [
    "predictions = model.predict_proba(X_test)"
   ]
  },
  {
   "cell_type": "code",
   "execution_count": 32,
   "metadata": {},
   "outputs": [
    {
     "data": {
      "text/plain": [
       "9230"
      ]
     },
     "execution_count": 32,
     "metadata": {},
     "output_type": "execute_result"
    }
   ],
   "source": [
    "len(X_train)"
   ]
  },
  {
   "cell_type": "code",
   "execution_count": 33,
   "metadata": {},
   "outputs": [],
   "source": [
    "fpr, tpr, thres = roc_curve( y_test, predictions[:, 1])"
   ]
  },
  {
   "cell_type": "code",
   "execution_count": 34,
   "metadata": {},
   "outputs": [],
   "source": [
    "from matplotlib import pyplot as plt"
   ]
  },
  {
   "cell_type": "code",
   "execution_count": 35,
   "metadata": {},
   "outputs": [
    {
     "data": {
      "text/plain": [
       "[<matplotlib.lines.Line2D at 0x2078be94880>]"
      ]
     },
     "execution_count": 35,
     "metadata": {},
     "output_type": "execute_result"
    },
    {
     "data": {
      "image/png": "[encoded data removed]",
      "text/plain": [
       "<Figure size 432x288 with 1 Axes>"
      ]
     },
     "metadata": {
      "needs_background": "light"
     },
     "output_type": "display_data"
    }
   ],
   "source": [
    "# строим кривую ROC на основе использования пакета sklearn\n",
    "plt.plot( fpr, tpr )"
   ]
  },
  {
   "cell_type": "markdown",
   "metadata": {},
   "source": [
    "# <h2>4. Вычислите значение ROC-AUC метрики с помощью функции sklearn.metrics.roc_auc_score. <h2>"
   ]
  },
  {
   "cell_type": "code",
   "execution_count": 36,
   "metadata": {
    "run_control": {
     "marked": true
    }
   },
   "outputs": [],
   "source": [
    "from sklearn.metrics import roc_auc_score"
   ]
  },
  {
   "cell_type": "code",
   "execution_count": 37,
   "metadata": {},
   "outputs": [
    {
     "data": {
      "text/plain": [
       "0.8825325551774613"
      ]
     },
     "execution_count": 37,
     "metadata": {},
     "output_type": "execute_result"
    }
   ],
   "source": [
    "roc_auc_score(y_test, predictions[:, 1])"
   ]
  },
  {
   "cell_type": "markdown",
   "metadata": {},
   "source": [
    "# <h2>5. Реализуйте подсчет метрик TPR, FPR «вручную», без использования готовых функций из библиотеки sklearn. <h2>"
   ]
  },
  {
   "cell_type": "markdown",
   "metadata": {},
   "source": [
    "# <h2> 6. Постройте ROC-кривую с помощью вычисленных в п. 5 метрик: объедините графики из п. 3 и п. 6 в один. Сравните, сделайте вывод. <h2>"
   ]
  },
  {
   "cell_type": "markdown",
   "metadata": {},
   "source": [
    "<h3>Как видим у кривой из пакета sklearn все точки находятся выше чем у нашей модели поэтому в данном случае она предпочтительней.<h3>"
   ]
  },
  {
   "cell_type": "markdown",
   "metadata": {},
   "source": [
    "# <h2>7.\tПостройте график Precision-Recall, используя метрики, посчитанные в п. 5.\n",
    "8.\t*Вычислите значение ROC-AUC метрики, используя метрики, посчитанные в п. 5. <h2>"
   ]
  },
  {
   "cell_type": "code",
   "execution_count": 38,
   "metadata": {},
   "outputs": [],
   "source": [
    "# Создаем модель Logistic Regression\n",
    "class LogitRegression() :\n",
    "    def __init__( self, learning_rate, iterations)  :        \n",
    "        self.learning_rate = learning_rate        \n",
    "        self.iterations = iterations\n",
    "                                   \n",
    "    # Function for model training    \n",
    "    def fit( self, X, Y ) :        \n",
    "        # no_of_training_examples, no_of_features (столбцов)       \n",
    "        self.m, self.n = X.shape        \n",
    "        # weight initialization        \n",
    "        self.W = np.zeros( self.n ) # 0 вектор столбцов       \n",
    "        self.b = 0        \n",
    "        self.X = X        \n",
    "        self.Y = Y\n",
    "                  \n",
    "        # gradient descent learning\n",
    "                  \n",
    "        for i in range( self.iterations ) :\n",
    "            \n",
    "            self.update_weights() # запускаем обновление весов\n",
    "                           \n",
    " \n",
    "    # Helper function to update weights in gradient descent\n",
    " \n",
    "    def update_weights( self ) : \n",
    "        A = 1 / ( 1 + np.exp( - ( self.X.dot( self.W ) + self.b ) ) )\n",
    "            # calculate gradients        \n",
    "        tmp0 = ( A - self.Y.T )\n",
    "        tmp = np.reshape( tmp0, self.m )        \n",
    "        dW = np.dot( self.X.T, tmp ) / self.m         \n",
    "        db = np.sum( tmp ) / self.m \n",
    "            # обновляем веса    \n",
    "\n",
    "        self.W = self.W - self.learning_rate * dW    \n",
    "        self.b = self.b - self.learning_rate * db\n",
    "       \n",
    "    def predict( self, X ) :    \n",
    "        Z = 1 / ( 1 + np.exp( - ( X.dot( self.W ) + self.b ) ) )        \n",
    "        Y = np.where( Z > 0.5, 1, 0 )\n",
    "                \n",
    "        return Y\n",
    "     \n",
    "    def loss( self, X) :    \n",
    "        Z = 1 / ( 1 + np.exp( - ( X.dot( self.W ) + self.b ) ) )        \n",
    "        Y = np.where( Z > 0.5, 1, 0 )\n",
    "        Loss=np.mean(-Y*np.log(Z)-(1-Y)*np.log(1-Z))\n",
    "         \n",
    "        return Loss "
   ]
  },
  {
   "cell_type": "code",
   "execution_count": 43,
   "metadata": {
    "scrolled": true
   },
   "outputs": [
    {
     "name": "stdout",
     "output_type": "stream",
     "text": [
      "Создаем confusion matrix  :  \n",
      "Predicted    0     1\n",
      "Actual              \n",
      "0          968   311\n",
      "1          260  1346\n",
      "\n",
      "цикл обучения: 2885\n",
      "FP: 311\n",
      "TN: 968\n",
      "TP: 1346\n",
      "FN: 260\n",
      "\n",
      "False Positive Rate (FPR)      :   24.315871774824082\n",
      "True_Positive Rate (TPR) и Recall     :   83.8107098381071\n",
      "Presicion      :   81.23114061557031\n",
      "Общая точность модели   :   0.8020797227036395\n",
      "\n"
     ]
    },
    {
     "data": {
      "image/png": "[encoded data removed]",
      "text/plain": [
       "<Figure size 432x288 with 2 Axes>"
      ]
     },
     "metadata": {
      "needs_background": "light"
     },
     "output_type": "display_data"
    }
   ],
   "source": [
    "# Запускаем расчет модели\n",
    "def main() :\n",
    "    #X = X.values # all the columns except the last 1 column\n",
    "    Y = y.values\n",
    "    # Splitting dataset into train and test set\n",
    "    X_train, X_test, Y_train, Y_test = train_test_split(\n",
    "      X, Y, test_size = 1/4, random_state = 0 )\n",
    "    \n",
    "    # Model training    \n",
    "    model = LogitRegression( learning_rate = 0.005, iterations = 100000)\n",
    "    \n",
    "    #запускаем функции класса  \n",
    "    model.fit( X_train, Y_train )    \n",
    "    L1=model.loss(X_train)\n",
    "     \n",
    "    # Prediction on test set\n",
    "    Y_pred = model.predict( X_test ) \n",
    "  \n",
    "         \n",
    "    # measure performance    \n",
    "    correctly_classified = 0\n",
    "    FP = 0\n",
    "    TN = 0\n",
    "    TP = 0\n",
    "    FN = 0\n",
    "    FP2 = []     \n",
    "    TN2 = []\n",
    "    TP2 = []\n",
    "    FN2 = []\n",
    "        \n",
    "    # counter    \n",
    "    count = 0    \n",
    "    for count in range( np.size( Y_pred ) ) :  \n",
    "        \n",
    "        if Y_test[count] == Y_pred[count] :            \n",
    "            correctly_classified = correctly_classified + 1\n",
    "        \n",
    "        if Y_pred[count] == 1 and Y_test[count] == 0 :            \n",
    "            FP = FP + 1\n",
    "            FP2.append(FP)\n",
    "        if Y_pred[count] == 0 and Y_test[count] == 0 :              \n",
    "            TN = TN + 1\n",
    "            TN2.append(TN)\n",
    "        if Y_pred[count] == 1 and Y_test[count] == 1 :              \n",
    "            TP = TP + 1 \n",
    "            TP2.append(TP)\n",
    "        if Y_pred[count] == 0 and Y_test[count] == 1 :              \n",
    "            FN = FN + 1 \n",
    "            FN2.append(FN)\n",
    "     \n",
    "        count = count + 1\n",
    "    y_actual = pd.Series(Y_test, name='Actual')\n",
    "    y_predicted = pd.Series(Y_pred, name='Predicted')\n",
    "    \n",
    "    \n",
    "    print( \"Создаем confusion matrix  :  \")\n",
    "    print(pd.crosstab(y_actual, y_predicted))       \n",
    "    #print(roc_auc_score(y_actual, y_predicted))\n",
    "    print()\n",
    "    \n",
    "    print (\"цикл обучения:\", count)\n",
    "    print (\"FP:\", FP)\n",
    "    #print (\"FP2:\", FP2)\n",
    "    print (\"TN:\", TN)\n",
    "    print (\"TP:\", TP)\n",
    "    print (\"FN:\", FN)\n",
    "    print()\n",
    "        \n",
    "    print( \"False Positive Rate (FPR)      :  \", ( \n",
    "      FP/(FP + TN) ) * 100 )\n",
    "    print( \"True_Positive Rate (TPR) и Recall     :  \", ( \n",
    "      TP/(TP + FN) ) * 100 )\n",
    "    print( \"Presicion      :  \", ( \n",
    "      TP/(TP + FP) ) * 100 )\n",
    "     \n",
    "    print( \"Общая точность модели   :  \", ( \n",
    "       (TP + TN) / (TP + FP + FN + TN)))\n",
    "    \n",
    "    #print( \"Потери   :  \",  (L1) ) \n",
    "          \n",
    "    # Построим ROC-кривую\n",
    "    fpr2 = [x/(x + y) for x, y in zip(FP2, TN2)] \n",
    "    tpr2 = [x/(x + y) for x, y in zip(TP2, FN2)]    \n",
    "    \n",
    "    fpr2, tpr2, thres = roc_curve( Y_test, Y_pred)\n",
    "    pylab.subplot(2,2,1)\n",
    "    pylab.plt.plot(fpr2, tpr2,label = 'New LR' )\n",
    "    pylab.plt.plot( fpr, tpr, label = 'pyplot LR' )\n",
    "    pylab.plt.title('ROC curve')\n",
    "    pylab.plt.xlabel('TPR')\n",
    "    pylab.plt.ylabel('FPR') \n",
    "    print()\n",
    "    # Построим график Presicion - Recall\n",
    "    fpr3 = [x/(x + y) for x, y in zip(TP2, FP2)] \n",
    "    tpr3 = [x/(x + y) for x, y in zip(TP2, FN2)]   \n",
    "        \n",
    "   \n",
    "    fpr3, tpr3, thres = roc_curve( Y_test, Y_pred)\n",
    "    pylab.subplot(2,2,2)\n",
    "    pylab.plt.plot(fpr3, tpr3, label = 'New LR' )\n",
    "    pylab.plt.plot( fpr, tpr, label = 'pyplot LR' )\n",
    "    pylab.plt.plot([0,1])\n",
    "    pylab.plt.title('График Presicion - Recall')\n",
    "    pylab.plt.xlabel('Presicion')\n",
    "    pylab.plt.ylabel('Recall')\n",
    "    pylab.show()\n",
    "    #roc_auc_score(Y_test, Y_pred)   \n",
    " \n",
    "        \n",
    "if __name__ == \"__main__\" :     \n",
    "    main()"
   ]
  },
  {
   "cell_type": "markdown",
   "metadata": {},
   "source": [
    "# <h2>9.\tСформулируйте выводы по проделанной работе:\n",
    "a. как по полученным графикам сделать вывод о качестве модели? Как вы оцениваете обученную модель исходя из подсчитанных метрик?<h2>\n",
    "<h3>В целом можно ориентироваться на задание по оси х. Идеальный результат это точка в левом верхнем углу. \n",
    "Как видим у кривой из пакета sklearn все точки находятся выше чем у нашей модели поэтому в данном случае она предпочтительней.\n",
    "В качестве порога модели можно использовать значение около 0,2 при котором Recall составит больше 80%. \n",
    "Дальнейшее увеличение порога ведет к значительному росту ошибки (Presicion).<h3>\n",
    "<h2>b. *может ли ROC-кривая проходить ниже диагонали? <h2>\n",
    "<h3>В лучшем случае график ROC-кривой проходит через верхний левый угол, где доля истинно положительных случаев составляет 100% (Recall), \n",
    "а доля ложно положительных ответов (FPR) равна нулю. То есть чем ближе кривая к верхнему левому углу, тем выше предсказательная способность модели. \n",
    "И, наоборот, чем ближе она расположена к диагональной прямой, тем менее эффективна модель. Диагональная линия соответствует «бесполезному» классификатору,\n",
    "т.е. отражает неразличимость двух классов.\n",
    "Кривая может проходить ниже диагонали, но это будет означать, что модель начинает больше ошибаться чем угадывать.\n",
    "При этом худшей точкой будет правый нижний угол, который показывает, что все предсказания были ошибочными.<h3>\n"
   ]
  }
 ],
 "metadata": {
  "kernelspec": {
   "display_name": "Python 3.9.12 ('base')",
   "language": "python",
   "name": "python3"
  },
  "language_info": {
   "codemirror_mode": {
    "name": "ipython",
    "version": 3
   },
   "file_extension": ".py",
   "mimetype": "text/x-python",
   "name": "python",
   "nbconvert_exporter": "python",
   "pygments_lexer": "ipython3",
   "version": "3.9.12"
  },
  "vscode": {
   "interpreter": {
    "hash": "b215a0b3877420b2fa7998cf3ef1056e13d0d0c0fc3d3d829e6553ad3a5eaef9"
   }
  }
 },
 "nbformat": 4,
 "nbformat_minor": 2
}
