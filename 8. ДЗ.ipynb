{
 "cells": [
  {
   "cell_type": "code",
   "execution_count": 386,
   "id": "ccc4369d",
   "metadata": {},
   "outputs": [],
   "source": [
    "import pandas as pd\n",
    "import numpy as np\n",
    "import matplotlib.pyplot as plt\n",
    "import seaborn as sns\n",
    "import sklearn"
   ]
  },
  {
   "cell_type": "markdown",
   "id": "e85ddf8c",
   "metadata": {},
   "source": [
    "<h3>1.\tСгенерируйте данные с помощью кода:\n",
    "from sklearn.datasets import make_classification\n",
    "x_data_generated, y_data_generated = make_classification(scale=1)"
   ]
  },
  {
   "cell_type": "code",
   "execution_count": 387,
   "id": "07419709",
   "metadata": {
    "run_control": {
     "marked": true
    }
   },
   "outputs": [
    {
     "data": {
      "text/plain": [
       "((100, 20), (100,))"
      ]
     },
     "execution_count": 387,
     "metadata": {},
     "output_type": "execute_result"
    }
   ],
   "source": [
    "# загружаем данные из sklearn \n",
    "from sklearn.datasets import make_classification\n",
    "X, y = make_classification(scale=1)\n",
    "X.shape, y.shape"
   ]
  },
  {
   "cell_type": "code",
   "execution_count": 423,
   "id": "29acd52b",
   "metadata": {},
   "outputs": [
    {
     "data": {
      "text/plain": [
       "array([0, 1])"
      ]
     },
     "execution_count": 423,
     "metadata": {},
     "output_type": "execute_result"
    }
   ],
   "source": [
    "np.unique(y)"
   ]
  },
  {
   "cell_type": "markdown",
   "id": "37445199",
   "metadata": {},
   "source": [
    "<h3>2.\tПостройте модель логистической регрессии и оцените среднюю точность. Для этого используйте следующий код:\n",
    "cross_val_score(LogisticRegression(), x, y, scoring=‘accuracy’).mean()"
   ]
  },
  {
   "cell_type": "code",
   "execution_count": 427,
   "id": "b74f5690",
   "metadata": {},
   "outputs": [
    {
     "name": "stdout",
     "output_type": "stream",
     "text": [
      "(80, 20) (80,)\n",
      "(20, 20) (20,)\n",
      "scores = 0.850\n"
     ]
    }
   ],
   "source": [
    "from sklearn.model_selection import train_test_split\n",
    "from sklearn import svm\n",
    "X_train, X_test, y_train, y_test = train_test_split(X, y, test_size=0.2, random_state=0)\n",
    "\n",
    "print(X_train.shape, y_train.shape)\n",
    "print(X_test.shape, y_test.shape)\n",
    "\n",
    "clf = svm.SVC(kernel='linear', C=1).fit(X_train, y_train)\n",
    "print('scores = {:.3f}'.format(clf.score(X_test, y_test)))"
   ]
  },
  {
   "cell_type": "code",
   "execution_count": 390,
   "id": "5cf0214b",
   "metadata": {},
   "outputs": [
    {
     "name": "stdout",
     "output_type": "stream",
     "text": [
      "scores2 = [0.85 0.75 0.95 0.85 0.85] \n",
      "mean score2 = 0.850 +/- 0.063\n"
     ]
    }
   ],
   "source": [
    "from sklearn.model_selection import cross_val_score\n",
    "clf = svm.SVC(kernel='linear', C=1, random_state=42)\n",
    "scores2 = cross_val_score(clf, X, y, cv=5)\n",
    "print('scores2 = {} \\nmean score2 = {:.3f} +/- {:.3f}'.format(scores2, scores2.mean(), scores2.std()))"
   ]
  },
  {
   "cell_type": "code",
   "execution_count": 391,
   "id": "b22f0306",
   "metadata": {
    "run_control": {
     "marked": true
    }
   },
   "outputs": [
    {
     "data": {
      "text/html": [
       "<div>\n",
       "<style scoped>\n",
       "    .dataframe tbody tr th:only-of-type {\n",
       "        vertical-align: middle;\n",
       "    }\n",
       "\n",
       "    .dataframe tbody tr th {\n",
       "        vertical-align: top;\n",
       "    }\n",
       "\n",
       "    .dataframe thead th {\n",
       "        text-align: right;\n",
       "    }\n",
       "</style>\n",
       "<table border=\"1\" class=\"dataframe\">\n",
       "  <thead>\n",
       "    <tr style=\"text-align: right;\">\n",
       "      <th></th>\n",
       "      <th>№1</th>\n",
       "      <th>№2</th>\n",
       "      <th>№3</th>\n",
       "      <th>№4</th>\n",
       "      <th>№5</th>\n",
       "      <th>№6</th>\n",
       "      <th>№7</th>\n",
       "      <th>№8</th>\n",
       "      <th>№9</th>\n",
       "      <th>№10</th>\n",
       "      <th>...</th>\n",
       "      <th>№12</th>\n",
       "      <th>№13</th>\n",
       "      <th>№14</th>\n",
       "      <th>№15</th>\n",
       "      <th>№16</th>\n",
       "      <th>№17</th>\n",
       "      <th>№18</th>\n",
       "      <th>№19</th>\n",
       "      <th>№20</th>\n",
       "      <th>Target</th>\n",
       "    </tr>\n",
       "  </thead>\n",
       "  <tbody>\n",
       "    <tr>\n",
       "      <th>count</th>\n",
       "      <td>100.000000</td>\n",
       "      <td>100.000000</td>\n",
       "      <td>100.000000</td>\n",
       "      <td>100.000000</td>\n",
       "      <td>100.000000</td>\n",
       "      <td>100.000000</td>\n",
       "      <td>100.000000</td>\n",
       "      <td>100.000000</td>\n",
       "      <td>100.000000</td>\n",
       "      <td>100.000000</td>\n",
       "      <td>...</td>\n",
       "      <td>100.000000</td>\n",
       "      <td>100.000000</td>\n",
       "      <td>100.000000</td>\n",
       "      <td>100.000000</td>\n",
       "      <td>100.000000</td>\n",
       "      <td>100.000000</td>\n",
       "      <td>100.000000</td>\n",
       "      <td>100.000000</td>\n",
       "      <td>100.000000</td>\n",
       "      <td>100.000000</td>\n",
       "    </tr>\n",
       "    <tr>\n",
       "      <th>mean</th>\n",
       "      <td>-0.009671</td>\n",
       "      <td>-0.009897</td>\n",
       "      <td>0.123014</td>\n",
       "      <td>-0.060047</td>\n",
       "      <td>-0.043631</td>\n",
       "      <td>-0.144394</td>\n",
       "      <td>-0.024875</td>\n",
       "      <td>-0.080074</td>\n",
       "      <td>-0.058212</td>\n",
       "      <td>0.063089</td>\n",
       "      <td>...</td>\n",
       "      <td>0.019312</td>\n",
       "      <td>0.042096</td>\n",
       "      <td>0.095545</td>\n",
       "      <td>0.066563</td>\n",
       "      <td>-0.020225</td>\n",
       "      <td>-0.006846</td>\n",
       "      <td>-0.063506</td>\n",
       "      <td>0.033403</td>\n",
       "      <td>0.116963</td>\n",
       "      <td>0.490000</td>\n",
       "    </tr>\n",
       "    <tr>\n",
       "      <th>std</th>\n",
       "      <td>1.010861</td>\n",
       "      <td>1.038697</td>\n",
       "      <td>1.011214</td>\n",
       "      <td>1.037146</td>\n",
       "      <td>0.907597</td>\n",
       "      <td>0.939478</td>\n",
       "      <td>0.984598</td>\n",
       "      <td>1.012737</td>\n",
       "      <td>1.052628</td>\n",
       "      <td>1.131582</td>\n",
       "      <td>...</td>\n",
       "      <td>0.879843</td>\n",
       "      <td>0.837570</td>\n",
       "      <td>0.990216</td>\n",
       "      <td>1.039382</td>\n",
       "      <td>1.120901</td>\n",
       "      <td>0.394759</td>\n",
       "      <td>1.177459</td>\n",
       "      <td>0.972363</td>\n",
       "      <td>0.955645</td>\n",
       "      <td>0.502418</td>\n",
       "    </tr>\n",
       "    <tr>\n",
       "      <th>min</th>\n",
       "      <td>-2.517105</td>\n",
       "      <td>-2.476455</td>\n",
       "      <td>-2.604436</td>\n",
       "      <td>-2.271879</td>\n",
       "      <td>-2.093710</td>\n",
       "      <td>-2.340927</td>\n",
       "      <td>-1.856741</td>\n",
       "      <td>-2.974221</td>\n",
       "      <td>-2.250357</td>\n",
       "      <td>-2.321175</td>\n",
       "      <td>...</td>\n",
       "      <td>-2.783412</td>\n",
       "      <td>-1.729211</td>\n",
       "      <td>-3.110141</td>\n",
       "      <td>-2.497815</td>\n",
       "      <td>-2.794032</td>\n",
       "      <td>-0.986794</td>\n",
       "      <td>-2.806473</td>\n",
       "      <td>-1.765649</td>\n",
       "      <td>-2.025931</td>\n",
       "      <td>0.000000</td>\n",
       "    </tr>\n",
       "    <tr>\n",
       "      <th>25%</th>\n",
       "      <td>-0.608936</td>\n",
       "      <td>-0.748321</td>\n",
       "      <td>-0.602055</td>\n",
       "      <td>-0.877418</td>\n",
       "      <td>-0.620507</td>\n",
       "      <td>-0.726311</td>\n",
       "      <td>-0.793280</td>\n",
       "      <td>-0.720997</td>\n",
       "      <td>-0.851883</td>\n",
       "      <td>-0.768585</td>\n",
       "      <td>...</td>\n",
       "      <td>-0.574841</td>\n",
       "      <td>-0.637568</td>\n",
       "      <td>-0.431056</td>\n",
       "      <td>-0.421994</td>\n",
       "      <td>-0.913492</td>\n",
       "      <td>-0.323043</td>\n",
       "      <td>-1.003890</td>\n",
       "      <td>-0.798290</td>\n",
       "      <td>-0.498941</td>\n",
       "      <td>0.000000</td>\n",
       "    </tr>\n",
       "    <tr>\n",
       "      <th>50%</th>\n",
       "      <td>0.081831</td>\n",
       "      <td>0.022015</td>\n",
       "      <td>0.217450</td>\n",
       "      <td>-0.037105</td>\n",
       "      <td>0.087171</td>\n",
       "      <td>-0.095336</td>\n",
       "      <td>-0.029184</td>\n",
       "      <td>-0.059892</td>\n",
       "      <td>-0.065289</td>\n",
       "      <td>0.193139</td>\n",
       "      <td>...</td>\n",
       "      <td>0.074261</td>\n",
       "      <td>0.042077</td>\n",
       "      <td>0.225047</td>\n",
       "      <td>0.082230</td>\n",
       "      <td>0.147677</td>\n",
       "      <td>0.046073</td>\n",
       "      <td>-0.172991</td>\n",
       "      <td>0.156865</td>\n",
       "      <td>0.046615</td>\n",
       "      <td>0.000000</td>\n",
       "    </tr>\n",
       "    <tr>\n",
       "      <th>75%</th>\n",
       "      <td>0.700329</td>\n",
       "      <td>0.760866</td>\n",
       "      <td>0.804524</td>\n",
       "      <td>0.742325</td>\n",
       "      <td>0.574812</td>\n",
       "      <td>0.382415</td>\n",
       "      <td>0.547056</td>\n",
       "      <td>0.588752</td>\n",
       "      <td>0.622214</td>\n",
       "      <td>0.696152</td>\n",
       "      <td>...</td>\n",
       "      <td>0.688979</td>\n",
       "      <td>0.708105</td>\n",
       "      <td>0.639093</td>\n",
       "      <td>0.713813</td>\n",
       "      <td>0.614300</td>\n",
       "      <td>0.215811</td>\n",
       "      <td>0.983839</td>\n",
       "      <td>0.687495</td>\n",
       "      <td>0.800037</td>\n",
       "      <td>1.000000</td>\n",
       "    </tr>\n",
       "    <tr>\n",
       "      <th>max</th>\n",
       "      <td>2.722774</td>\n",
       "      <td>2.755597</td>\n",
       "      <td>3.015604</td>\n",
       "      <td>2.676492</td>\n",
       "      <td>2.583978</td>\n",
       "      <td>2.857004</td>\n",
       "      <td>2.478306</td>\n",
       "      <td>3.185758</td>\n",
       "      <td>2.645695</td>\n",
       "      <td>3.693777</td>\n",
       "      <td>...</td>\n",
       "      <td>2.002705</td>\n",
       "      <td>2.053283</td>\n",
       "      <td>3.042962</td>\n",
       "      <td>2.610089</td>\n",
       "      <td>2.289010</td>\n",
       "      <td>0.802100</td>\n",
       "      <td>2.605261</td>\n",
       "      <td>1.998323</td>\n",
       "      <td>2.371865</td>\n",
       "      <td>1.000000</td>\n",
       "    </tr>\n",
       "  </tbody>\n",
       "</table>\n",
       "<p>8 rows × 21 columns</p>\n",
       "</div>"
      ],
      "text/plain": [
       "               №1          №2          №3          №4          №5          №6  \\\n",
       "count  100.000000  100.000000  100.000000  100.000000  100.000000  100.000000   \n",
       "mean    -0.009671   -0.009897    0.123014   -0.060047   -0.043631   -0.144394   \n",
       "std      1.010861    1.038697    1.011214    1.037146    0.907597    0.939478   \n",
       "min     -2.517105   -2.476455   -2.604436   -2.271879   -2.093710   -2.340927   \n",
       "25%     -0.608936   -0.748321   -0.602055   -0.877418   -0.620507   -0.726311   \n",
       "50%      0.081831    0.022015    0.217450   -0.037105    0.087171   -0.095336   \n",
       "75%      0.700329    0.760866    0.804524    0.742325    0.574812    0.382415   \n",
       "max      2.722774    2.755597    3.015604    2.676492    2.583978    2.857004   \n",
       "\n",
       "               №7          №8          №9         №10  ...         №12  \\\n",
       "count  100.000000  100.000000  100.000000  100.000000  ...  100.000000   \n",
       "mean    -0.024875   -0.080074   -0.058212    0.063089  ...    0.019312   \n",
       "std      0.984598    1.012737    1.052628    1.131582  ...    0.879843   \n",
       "min     -1.856741   -2.974221   -2.250357   -2.321175  ...   -2.783412   \n",
       "25%     -0.793280   -0.720997   -0.851883   -0.768585  ...   -0.574841   \n",
       "50%     -0.029184   -0.059892   -0.065289    0.193139  ...    0.074261   \n",
       "75%      0.547056    0.588752    0.622214    0.696152  ...    0.688979   \n",
       "max      2.478306    3.185758    2.645695    3.693777  ...    2.002705   \n",
       "\n",
       "              №13         №14         №15         №16         №17         №18  \\\n",
       "count  100.000000  100.000000  100.000000  100.000000  100.000000  100.000000   \n",
       "mean     0.042096    0.095545    0.066563   -0.020225   -0.006846   -0.063506   \n",
       "std      0.837570    0.990216    1.039382    1.120901    0.394759    1.177459   \n",
       "min     -1.729211   -3.110141   -2.497815   -2.794032   -0.986794   -2.806473   \n",
       "25%     -0.637568   -0.431056   -0.421994   -0.913492   -0.323043   -1.003890   \n",
       "50%      0.042077    0.225047    0.082230    0.147677    0.046073   -0.172991   \n",
       "75%      0.708105    0.639093    0.713813    0.614300    0.215811    0.983839   \n",
       "max      2.053283    3.042962    2.610089    2.289010    0.802100    2.605261   \n",
       "\n",
       "              №19         №20      Target  \n",
       "count  100.000000  100.000000  100.000000  \n",
       "mean     0.033403    0.116963    0.490000  \n",
       "std      0.972363    0.955645    0.502418  \n",
       "min     -1.765649   -2.025931    0.000000  \n",
       "25%     -0.798290   -0.498941    0.000000  \n",
       "50%      0.156865    0.046615    0.000000  \n",
       "75%      0.687495    0.800037    1.000000  \n",
       "max      1.998323    2.371865    1.000000  \n",
       "\n",
       "[8 rows x 21 columns]"
      ]
     },
     "execution_count": 391,
     "metadata": {},
     "output_type": "execute_result"
    }
   ],
   "source": [
    "# создадим датафрейм и пронумеруем столбцы\n",
    "X2 = pd.DataFrame(X)\n",
    "X2.columns =['№1', '№2', '№3', '№4','№5', '№6', '№7', '№8','№9', '№10', '№11', '№12','№13', '№14', '№15', '№16','№17', '№18', '№19', '№20']\n",
    "y2 = pd.DataFrame(y)\n",
    "y2.rename(columns={0: 'Target'}, inplace=True)\n",
    "df2 = pd.concat([X2, y2], axis=1)\n",
    "df2.describe()"
   ]
  },
  {
   "cell_type": "markdown",
   "id": "c68e3c06",
   "metadata": {},
   "source": [
    "<h3>3.Используйте статистические методы для отбора признаков:\n",
    "<br>a) Выберите признаки на основе матрицы корреляции."
   ]
  },
  {
   "cell_type": "code",
   "execution_count": 392,
   "id": "3affd8cf",
   "metadata": {
    "scrolled": false
   },
   "outputs": [
    {
     "data": {
      "image/png": "[encoded data removed]",
      "text/plain": [
       "<Figure size 1296x720 with 2 Axes>"
      ]
     },
     "metadata": {
      "needs_background": "light"
     },
     "output_type": "display_data"
    }
   ],
   "source": [
    "# Парная корреляция\n",
    "matrix = df2.corr()\n",
    "\n",
    "# Цветовая гамма\n",
    "cmap = sns.diverging_palette(250, 15, s=75, l=40,\n",
    "                             n=9, center=\"light\", as_cmap=True)\n",
    "plt.figure(figsize=(18, 10))\n",
    "\n",
    "sns.heatmap(matrix,  center=0, annot=True,\n",
    "             fmt='.2f', square=True, cmap=cmap)\n",
    "plt.show()"
   ]
  },
  {
   "cell_type": "markdown",
   "id": "850c6f7c",
   "metadata": {},
   "source": [
    "Удалим столбцы:\n",
    "№2,5,10,20 из-за низкой связи с целевой переменной Target, а также \n",
    "№16 - из-за сильной корреляции с №17."
   ]
  },
  {
   "cell_type": "code",
   "execution_count": 424,
   "id": "84e24b9e",
   "metadata": {},
   "outputs": [
    {
     "data": {
      "text/html": [
       "<div>\n",
       "<style scoped>\n",
       "    .dataframe tbody tr th:only-of-type {\n",
       "        vertical-align: middle;\n",
       "    }\n",
       "\n",
       "    .dataframe tbody tr th {\n",
       "        vertical-align: top;\n",
       "    }\n",
       "\n",
       "    .dataframe thead th {\n",
       "        text-align: right;\n",
       "    }\n",
       "</style>\n",
       "<table border=\"1\" class=\"dataframe\">\n",
       "  <thead>\n",
       "    <tr style=\"text-align: right;\">\n",
       "      <th></th>\n",
       "      <th>№1</th>\n",
       "      <th>№3</th>\n",
       "      <th>№4</th>\n",
       "      <th>№6</th>\n",
       "      <th>№7</th>\n",
       "      <th>№8</th>\n",
       "      <th>№9</th>\n",
       "      <th>№11</th>\n",
       "      <th>№12</th>\n",
       "      <th>№13</th>\n",
       "      <th>№14</th>\n",
       "      <th>№15</th>\n",
       "      <th>№17</th>\n",
       "      <th>№18</th>\n",
       "      <th>№19</th>\n",
       "      <th>Target</th>\n",
       "    </tr>\n",
       "  </thead>\n",
       "  <tbody>\n",
       "    <tr>\n",
       "      <th>0</th>\n",
       "      <td>-1.938078</td>\n",
       "      <td>1.265616</td>\n",
       "      <td>0.774430</td>\n",
       "      <td>0.317685</td>\n",
       "      <td>-0.398689</td>\n",
       "      <td>-1.406090</td>\n",
       "      <td>-0.421074</td>\n",
       "      <td>-0.584954</td>\n",
       "      <td>0.290220</td>\n",
       "      <td>0.607479</td>\n",
       "      <td>0.231302</td>\n",
       "      <td>0.116268</td>\n",
       "      <td>-0.418812</td>\n",
       "      <td>-0.920105</td>\n",
       "      <td>0.568530</td>\n",
       "      <td>0</td>\n",
       "    </tr>\n",
       "    <tr>\n",
       "      <th>1</th>\n",
       "      <td>0.688155</td>\n",
       "      <td>-0.120287</td>\n",
       "      <td>0.739876</td>\n",
       "      <td>-0.438171</td>\n",
       "      <td>0.342620</td>\n",
       "      <td>1.113560</td>\n",
       "      <td>0.295674</td>\n",
       "      <td>1.970748</td>\n",
       "      <td>0.603760</td>\n",
       "      <td>0.355534</td>\n",
       "      <td>-0.849875</td>\n",
       "      <td>-0.006380</td>\n",
       "      <td>0.317379</td>\n",
       "      <td>-0.245761</td>\n",
       "      <td>-1.527082</td>\n",
       "      <td>1</td>\n",
       "    </tr>\n",
       "    <tr>\n",
       "      <th>2</th>\n",
       "      <td>-2.095322</td>\n",
       "      <td>1.081385</td>\n",
       "      <td>1.061837</td>\n",
       "      <td>-1.266852</td>\n",
       "      <td>1.559026</td>\n",
       "      <td>-0.025583</td>\n",
       "      <td>-1.870325</td>\n",
       "      <td>1.072805</td>\n",
       "      <td>0.776949</td>\n",
       "      <td>-0.275069</td>\n",
       "      <td>0.328969</td>\n",
       "      <td>-0.726112</td>\n",
       "      <td>0.421971</td>\n",
       "      <td>0.628581</td>\n",
       "      <td>1.118448</td>\n",
       "      <td>1</td>\n",
       "    </tr>\n",
       "    <tr>\n",
       "      <th>3</th>\n",
       "      <td>0.310108</td>\n",
       "      <td>0.846230</td>\n",
       "      <td>0.711594</td>\n",
       "      <td>-0.384709</td>\n",
       "      <td>1.137387</td>\n",
       "      <td>-1.395747</td>\n",
       "      <td>1.271446</td>\n",
       "      <td>-1.281741</td>\n",
       "      <td>0.654753</td>\n",
       "      <td>-1.406276</td>\n",
       "      <td>0.770609</td>\n",
       "      <td>-1.569556</td>\n",
       "      <td>0.064398</td>\n",
       "      <td>0.988330</td>\n",
       "      <td>1.584918</td>\n",
       "      <td>1</td>\n",
       "    </tr>\n",
       "    <tr>\n",
       "      <th>4</th>\n",
       "      <td>-0.243398</td>\n",
       "      <td>0.839294</td>\n",
       "      <td>0.202721</td>\n",
       "      <td>-0.797107</td>\n",
       "      <td>1.180200</td>\n",
       "      <td>-0.194636</td>\n",
       "      <td>0.182510</td>\n",
       "      <td>-1.839792</td>\n",
       "      <td>-0.293573</td>\n",
       "      <td>-1.231534</td>\n",
       "      <td>0.178695</td>\n",
       "      <td>1.211806</td>\n",
       "      <td>-0.986794</td>\n",
       "      <td>-1.882984</td>\n",
       "      <td>-0.428863</td>\n",
       "      <td>0</td>\n",
       "    </tr>\n",
       "    <tr>\n",
       "      <th>...</th>\n",
       "      <td>...</td>\n",
       "      <td>...</td>\n",
       "      <td>...</td>\n",
       "      <td>...</td>\n",
       "      <td>...</td>\n",
       "      <td>...</td>\n",
       "      <td>...</td>\n",
       "      <td>...</td>\n",
       "      <td>...</td>\n",
       "      <td>...</td>\n",
       "      <td>...</td>\n",
       "      <td>...</td>\n",
       "      <td>...</td>\n",
       "      <td>...</td>\n",
       "      <td>...</td>\n",
       "      <td>...</td>\n",
       "    </tr>\n",
       "    <tr>\n",
       "      <th>95</th>\n",
       "      <td>-1.332295</td>\n",
       "      <td>0.760426</td>\n",
       "      <td>-0.793522</td>\n",
       "      <td>-0.006607</td>\n",
       "      <td>0.385540</td>\n",
       "      <td>-0.652434</td>\n",
       "      <td>0.686797</td>\n",
       "      <td>-0.302623</td>\n",
       "      <td>0.730475</td>\n",
       "      <td>0.090614</td>\n",
       "      <td>-1.406238</td>\n",
       "      <td>0.876816</td>\n",
       "      <td>0.213693</td>\n",
       "      <td>0.840570</td>\n",
       "      <td>-1.542675</td>\n",
       "      <td>1</td>\n",
       "    </tr>\n",
       "    <tr>\n",
       "      <th>96</th>\n",
       "      <td>-0.155804</td>\n",
       "      <td>-1.159491</td>\n",
       "      <td>0.857514</td>\n",
       "      <td>-0.058241</td>\n",
       "      <td>-1.329819</td>\n",
       "      <td>-1.104996</td>\n",
       "      <td>-1.492867</td>\n",
       "      <td>-0.828399</td>\n",
       "      <td>0.641995</td>\n",
       "      <td>1.353399</td>\n",
       "      <td>1.362986</td>\n",
       "      <td>-1.471705</td>\n",
       "      <td>-0.327488</td>\n",
       "      <td>-0.490425</td>\n",
       "      <td>-1.234101</td>\n",
       "      <td>0</td>\n",
       "    </tr>\n",
       "    <tr>\n",
       "      <th>97</th>\n",
       "      <td>0.915904</td>\n",
       "      <td>-1.394316</td>\n",
       "      <td>-1.217731</td>\n",
       "      <td>-0.098969</td>\n",
       "      <td>-0.576949</td>\n",
       "      <td>-1.243697</td>\n",
       "      <td>-0.098297</td>\n",
       "      <td>-0.719520</td>\n",
       "      <td>0.162402</td>\n",
       "      <td>-0.990433</td>\n",
       "      <td>-1.611044</td>\n",
       "      <td>0.264104</td>\n",
       "      <td>-0.228433</td>\n",
       "      <td>-0.254612</td>\n",
       "      <td>1.300830</td>\n",
       "      <td>0</td>\n",
       "    </tr>\n",
       "    <tr>\n",
       "      <th>98</th>\n",
       "      <td>-0.773664</td>\n",
       "      <td>1.042339</td>\n",
       "      <td>-1.116191</td>\n",
       "      <td>0.300159</td>\n",
       "      <td>2.182171</td>\n",
       "      <td>0.111544</td>\n",
       "      <td>-0.690747</td>\n",
       "      <td>1.892277</td>\n",
       "      <td>0.873968</td>\n",
       "      <td>1.391435</td>\n",
       "      <td>-0.428457</td>\n",
       "      <td>1.839292</td>\n",
       "      <td>-0.013158</td>\n",
       "      <td>-1.208505</td>\n",
       "      <td>-1.006829</td>\n",
       "      <td>0</td>\n",
       "    </tr>\n",
       "    <tr>\n",
       "      <th>99</th>\n",
       "      <td>-0.508144</td>\n",
       "      <td>-0.698049</td>\n",
       "      <td>1.027613</td>\n",
       "      <td>0.417018</td>\n",
       "      <td>-1.599062</td>\n",
       "      <td>-0.693151</td>\n",
       "      <td>-1.262814</td>\n",
       "      <td>1.300942</td>\n",
       "      <td>-0.653476</td>\n",
       "      <td>0.894309</td>\n",
       "      <td>-0.526799</td>\n",
       "      <td>0.786837</td>\n",
       "      <td>-0.073003</td>\n",
       "      <td>-1.026507</td>\n",
       "      <td>1.345940</td>\n",
       "      <td>0</td>\n",
       "    </tr>\n",
       "  </tbody>\n",
       "</table>\n",
       "<p>100 rows × 16 columns</p>\n",
       "</div>"
      ],
      "text/plain": [
       "          №1        №3        №4        №6        №7        №8        №9  \\\n",
       "0  -1.938078  1.265616  0.774430  0.317685 -0.398689 -1.406090 -0.421074   \n",
       "1   0.688155 -0.120287  0.739876 -0.438171  0.342620  1.113560  0.295674   \n",
       "2  -2.095322  1.081385  1.061837 -1.266852  1.559026 -0.025583 -1.870325   \n",
       "3   0.310108  0.846230  0.711594 -0.384709  1.137387 -1.395747  1.271446   \n",
       "4  -0.243398  0.839294  0.202721 -0.797107  1.180200 -0.194636  0.182510   \n",
       "..       ...       ...       ...       ...       ...       ...       ...   \n",
       "95 -1.332295  0.760426 -0.793522 -0.006607  0.385540 -0.652434  0.686797   \n",
       "96 -0.155804 -1.159491  0.857514 -0.058241 -1.329819 -1.104996 -1.492867   \n",
       "97  0.915904 -1.394316 -1.217731 -0.098969 -0.576949 -1.243697 -0.098297   \n",
       "98 -0.773664  1.042339 -1.116191  0.300159  2.182171  0.111544 -0.690747   \n",
       "99 -0.508144 -0.698049  1.027613  0.417018 -1.599062 -0.693151 -1.262814   \n",
       "\n",
       "         №11       №12       №13       №14       №15       №17       №18  \\\n",
       "0  -0.584954  0.290220  0.607479  0.231302  0.116268 -0.418812 -0.920105   \n",
       "1   1.970748  0.603760  0.355534 -0.849875 -0.006380  0.317379 -0.245761   \n",
       "2   1.072805  0.776949 -0.275069  0.328969 -0.726112  0.421971  0.628581   \n",
       "3  -1.281741  0.654753 -1.406276  0.770609 -1.569556  0.064398  0.988330   \n",
       "4  -1.839792 -0.293573 -1.231534  0.178695  1.211806 -0.986794 -1.882984   \n",
       "..       ...       ...       ...       ...       ...       ...       ...   \n",
       "95 -0.302623  0.730475  0.090614 -1.406238  0.876816  0.213693  0.840570   \n",
       "96 -0.828399  0.641995  1.353399  1.362986 -1.471705 -0.327488 -0.490425   \n",
       "97 -0.719520  0.162402 -0.990433 -1.611044  0.264104 -0.228433 -0.254612   \n",
       "98  1.892277  0.873968  1.391435 -0.428457  1.839292 -0.013158 -1.208505   \n",
       "99  1.300942 -0.653476  0.894309 -0.526799  0.786837 -0.073003 -1.026507   \n",
       "\n",
       "         №19  Target  \n",
       "0   0.568530       0  \n",
       "1  -1.527082       1  \n",
       "2   1.118448       1  \n",
       "3   1.584918       1  \n",
       "4  -0.428863       0  \n",
       "..       ...     ...  \n",
       "95 -1.542675       1  \n",
       "96 -1.234101       0  \n",
       "97  1.300830       0  \n",
       "98 -1.006829       0  \n",
       "99  1.345940       0  \n",
       "\n",
       "[100 rows x 16 columns]"
      ]
     },
     "execution_count": 424,
     "metadata": {},
     "output_type": "execute_result"
    }
   ],
   "source": [
    "df3=df2.drop(columns=['№2','№5','№10','№20','№16'])\n",
    "X3 = df3.iloc[:,:-1]\n",
    "df3"
   ]
  },
  {
   "cell_type": "markdown",
   "id": "3f5da873",
   "metadata": {},
   "source": [
    "<h4>b) Отсеките низковариативные признаки (VarianceThreshold)."
   ]
  },
  {
   "cell_type": "code",
   "execution_count": 413,
   "id": "8f10697a",
   "metadata": {},
   "outputs": [
    {
     "data": {
      "text/plain": [
       "(100, 15)"
      ]
     },
     "execution_count": 413,
     "metadata": {},
     "output_type": "execute_result"
    }
   ],
   "source": [
    "#отбираем признаки, у которых дисперсия меньше заданного значения\n",
    "from sklearn.feature_selection import VarianceThreshold\n",
    "sel = VarianceThreshold(threshold=0.9)\n",
    "X4 = sel.fit_transform(X2)\n",
    "X4.shape"
   ]
  },
  {
   "cell_type": "markdown",
   "id": "e4ceb287",
   "metadata": {},
   "source": [
    "<h4>c) Повторите п. 2 на отобранных признаках в п. 3a, п. 3b."
   ]
  },
  {
   "cell_type": "code",
   "execution_count": 425,
   "id": "3d6489a7",
   "metadata": {},
   "outputs": [
    {
     "name": "stdout",
     "output_type": "stream",
     "text": [
      "scores3a = [1.  0.8 0.9 0.9 1. ] \n",
      "mean score3a = 0.920 +/- 0.075\n",
      "scores3b = [1.   0.8  0.95 0.85 1.  ] \n",
      "mean score4 = 0.920 +/- 0.081\n"
     ]
    }
   ],
   "source": [
    "scores3a = cross_val_score(clf, X3, y, cv=5)\n",
    "print('scores3a = {} \\nmean score3a = {:.3f} +/- {:.3f}'.format(scores3a, scores3a.mean(), scores3a.std()))\n",
    "scores3b = cross_val_score(clf, X4, y, cv=5)\n",
    "print('scores3b = {} \\nmean score4 = {:.3f} +/- {:.3f}'.format(scores3b, scores3b.mean(), scores3b.std()))"
   ]
  },
  {
   "cell_type": "markdown",
   "id": "e54f0ceb",
   "metadata": {},
   "source": [
    "<h3>4.Осуществите отбор признаков на основе дисперсионного анализа:\n",
    "<h4>a) Выберите 5 лучших признаков с помощью скоринговой функции для классификации f_classif (SelectKBest(f_classif, k=5))."
   ]
  },
  {
   "cell_type": "code",
   "execution_count": 396,
   "id": "8cdab404",
   "metadata": {},
   "outputs": [
    {
     "data": {
      "text/html": [
       "<div>\n",
       "<style scoped>\n",
       "    .dataframe tbody tr th:only-of-type {\n",
       "        vertical-align: middle;\n",
       "    }\n",
       "\n",
       "    .dataframe tbody tr th {\n",
       "        vertical-align: top;\n",
       "    }\n",
       "\n",
       "    .dataframe thead th {\n",
       "        text-align: right;\n",
       "    }\n",
       "</style>\n",
       "<table border=\"1\" class=\"dataframe\">\n",
       "  <thead>\n",
       "    <tr style=\"text-align: right;\">\n",
       "      <th></th>\n",
       "      <th>0</th>\n",
       "      <th>1</th>\n",
       "      <th>2</th>\n",
       "      <th>3</th>\n",
       "      <th>4</th>\n",
       "      <th>5</th>\n",
       "      <th>6</th>\n",
       "      <th>7</th>\n",
       "      <th>8</th>\n",
       "      <th>9</th>\n",
       "      <th>10</th>\n",
       "      <th>11</th>\n",
       "      <th>12</th>\n",
       "      <th>13</th>\n",
       "      <th>14</th>\n",
       "      <th>15</th>\n",
       "      <th>16</th>\n",
       "      <th>17</th>\n",
       "      <th>18</th>\n",
       "      <th>19</th>\n",
       "    </tr>\n",
       "  </thead>\n",
       "  <tbody>\n",
       "    <tr>\n",
       "      <th>0</th>\n",
       "      <td>0.110504</td>\n",
       "      <td>0.160501</td>\n",
       "      <td>0.688616</td>\n",
       "      <td>0.615618</td>\n",
       "      <td>0.313301</td>\n",
       "      <td>0.511475</td>\n",
       "      <td>0.336340</td>\n",
       "      <td>0.254568</td>\n",
       "      <td>0.373624</td>\n",
       "      <td>0.619050</td>\n",
       "      <td>0.385235</td>\n",
       "      <td>0.642197</td>\n",
       "      <td>0.617764</td>\n",
       "      <td>0.543050</td>\n",
       "      <td>0.511772</td>\n",
       "      <td>0.315988</td>\n",
       "      <td>0.317505</td>\n",
       "      <td>0.348570</td>\n",
       "      <td>0.620137</td>\n",
       "      <td>0.402697</td>\n",
       "    </tr>\n",
       "    <tr>\n",
       "      <th>1</th>\n",
       "      <td>0.611705</td>\n",
       "      <td>0.523044</td>\n",
       "      <td>0.442016</td>\n",
       "      <td>0.608636</td>\n",
       "      <td>0.000000</td>\n",
       "      <td>0.366060</td>\n",
       "      <td>0.507344</td>\n",
       "      <td>0.663603</td>\n",
       "      <td>0.520017</td>\n",
       "      <td>0.307687</td>\n",
       "      <td>0.900574</td>\n",
       "      <td>0.707708</td>\n",
       "      <td>0.551156</td>\n",
       "      <td>0.367338</td>\n",
       "      <td>0.487761</td>\n",
       "      <td>0.723675</td>\n",
       "      <td>0.729039</td>\n",
       "      <td>0.473178</td>\n",
       "      <td>0.063382</td>\n",
       "      <td>0.385498</td>\n",
       "    </tr>\n",
       "    <tr>\n",
       "      <th>2</th>\n",
       "      <td>0.080495</td>\n",
       "      <td>0.429234</td>\n",
       "      <td>0.655835</td>\n",
       "      <td>0.673700</td>\n",
       "      <td>0.517228</td>\n",
       "      <td>0.206635</td>\n",
       "      <td>0.787942</td>\n",
       "      <td>0.478677</td>\n",
       "      <td>0.077620</td>\n",
       "      <td>0.128210</td>\n",
       "      <td>0.719510</td>\n",
       "      <td>0.743893</td>\n",
       "      <td>0.384440</td>\n",
       "      <td>0.558923</td>\n",
       "      <td>0.346855</td>\n",
       "      <td>0.784150</td>\n",
       "      <td>0.787506</td>\n",
       "      <td>0.634742</td>\n",
       "      <td>0.766238</td>\n",
       "      <td>0.436064</td>\n",
       "    </tr>\n",
       "    <tr>\n",
       "      <th>3</th>\n",
       "      <td>0.539557</td>\n",
       "      <td>0.380156</td>\n",
       "      <td>0.613993</td>\n",
       "      <td>0.602920</td>\n",
       "      <td>0.731414</td>\n",
       "      <td>0.376346</td>\n",
       "      <td>0.690680</td>\n",
       "      <td>0.256247</td>\n",
       "      <td>0.719315</td>\n",
       "      <td>0.366419</td>\n",
       "      <td>0.244733</td>\n",
       "      <td>0.718362</td>\n",
       "      <td>0.085376</td>\n",
       "      <td>0.630698</td>\n",
       "      <td>0.181730</td>\n",
       "      <td>0.588389</td>\n",
       "      <td>0.587621</td>\n",
       "      <td>0.701218</td>\n",
       "      <td>0.890168</td>\n",
       "      <td>0.344638</td>\n",
       "    </tr>\n",
       "    <tr>\n",
       "      <th>4</th>\n",
       "      <td>0.433923</td>\n",
       "      <td>0.181283</td>\n",
       "      <td>0.612759</td>\n",
       "      <td>0.500084</td>\n",
       "      <td>0.152436</td>\n",
       "      <td>0.297007</td>\n",
       "      <td>0.700556</td>\n",
       "      <td>0.451233</td>\n",
       "      <td>0.496904</td>\n",
       "      <td>0.493338</td>\n",
       "      <td>0.132207</td>\n",
       "      <td>0.520221</td>\n",
       "      <td>0.131574</td>\n",
       "      <td>0.534500</td>\n",
       "      <td>0.726251</td>\n",
       "      <td>0.000000</td>\n",
       "      <td>0.000000</td>\n",
       "      <td>0.170646</td>\n",
       "      <td>0.355153</td>\n",
       "      <td>0.580729</td>\n",
       "    </tr>\n",
       "  </tbody>\n",
       "</table>\n",
       "</div>"
      ],
      "text/plain": [
       "         0         1         2         3         4         5         6   \\\n",
       "0  0.110504  0.160501  0.688616  0.615618  0.313301  0.511475  0.336340   \n",
       "1  0.611705  0.523044  0.442016  0.608636  0.000000  0.366060  0.507344   \n",
       "2  0.080495  0.429234  0.655835  0.673700  0.517228  0.206635  0.787942   \n",
       "3  0.539557  0.380156  0.613993  0.602920  0.731414  0.376346  0.690680   \n",
       "4  0.433923  0.181283  0.612759  0.500084  0.152436  0.297007  0.700556   \n",
       "\n",
       "         7         8         9         10        11        12        13  \\\n",
       "0  0.254568  0.373624  0.619050  0.385235  0.642197  0.617764  0.543050   \n",
       "1  0.663603  0.520017  0.307687  0.900574  0.707708  0.551156  0.367338   \n",
       "2  0.478677  0.077620  0.128210  0.719510  0.743893  0.384440  0.558923   \n",
       "3  0.256247  0.719315  0.366419  0.244733  0.718362  0.085376  0.630698   \n",
       "4  0.451233  0.496904  0.493338  0.132207  0.520221  0.131574  0.534500   \n",
       "\n",
       "         14        15        16        17        18        19  \n",
       "0  0.511772  0.315988  0.317505  0.348570  0.620137  0.402697  \n",
       "1  0.487761  0.723675  0.729039  0.473178  0.063382  0.385498  \n",
       "2  0.346855  0.784150  0.787506  0.634742  0.766238  0.436064  \n",
       "3  0.181730  0.588389  0.587621  0.701218  0.890168  0.344638  \n",
       "4  0.726251  0.000000  0.000000  0.170646  0.355153  0.580729  "
      ]
     },
     "execution_count": 396,
     "metadata": {},
     "output_type": "execute_result"
    }
   ],
   "source": [
    "# нормализуем датасет\n",
    "from sklearn import preprocessing\n",
    "scaler = preprocessing.MinMaxScaler()\n",
    "\n",
    "d = scaler.fit_transform(X)\n",
    "\n",
    "X5 = pd.DataFrame(d)\n",
    "X5.head()"
   ]
  },
  {
   "cell_type": "code",
   "execution_count": 418,
   "id": "b671f78b",
   "metadata": {},
   "outputs": [
    {
     "data": {
      "text/plain": [
       "(100, 5)"
      ]
     },
     "execution_count": 418,
     "metadata": {},
     "output_type": "execute_result"
    }
   ],
   "source": [
    "# найдем 5 лучших признаков\n",
    "from sklearn.feature_selection import SelectKBest\n",
    "from sklearn.feature_selection import chi2\n",
    "X6 = SelectKBest(chi2, k=5).fit_transform(X5, y2)\n",
    "X6.shape"
   ]
  },
  {
   "cell_type": "markdown",
   "id": "920cd1f7",
   "metadata": {},
   "source": [
    "<h4>b) Повторите п. 2 на отобранных признаках."
   ]
  },
  {
   "cell_type": "code",
   "execution_count": 419,
   "id": "d4578bec",
   "metadata": {
    "scrolled": true
   },
   "outputs": [
    {
     "name": "stdout",
     "output_type": "stream",
     "text": [
      "scores4a = [0.95 0.85 0.9  0.85 1.  ] \n",
      "mean score4a = 0.910 +/- 0.058\n"
     ]
    }
   ],
   "source": [
    "scores4a = cross_val_score(clf, X6, y, cv=5)\n",
    "print('scores4a = {} \\nmean score4a = {:.3f} +/- {:.3f}'.format(scores4a, scores4a.mean(), scores4a.std()))"
   ]
  },
  {
   "cell_type": "markdown",
   "id": "0e3eaeb6",
   "metadata": {},
   "source": [
    "<h3>5.Отбор с использованием моделей:\n",
    "<h4>a) Реализуйте отбор признаков с помощью логистической регрессии. Отобранные признаки подайте далее на вход в саму логистическую регрессию (SelectFromModel). Используйте L1 регуляризацию."
   ]
  },
  {
   "cell_type": "code",
   "execution_count": 428,
   "id": "a9aba7b3",
   "metadata": {},
   "outputs": [
    {
     "data": {
      "text/plain": [
       "array([[ 1.95765988e-02,  1.52578929e-03,  5.60388571e-01,\n",
       "        -2.29725284e-01, -7.74504812e-02, -3.49626306e-01,\n",
       "         1.07451279e-01, -4.28530757e-02, -3.22349573e-02,\n",
       "        -1.66485860e-01, -1.06813149e-01, -1.67597165e-01,\n",
       "         3.07068220e-01, -2.44560220e-01, -1.75648416e-01,\n",
       "         1.47106205e+00,  1.46525684e+00,  1.54206185e+00,\n",
       "         3.27345326e-02,  2.38170306e-01]])"
      ]
     },
     "execution_count": 428,
     "metadata": {},
     "output_type": "execute_result"
    }
   ],
   "source": [
    "# создадим мультиклассовой объект LogisticRegression и запишем его в переменную model\n",
    "from sklearn.linear_model import LogisticRegression\n",
    "model = LogisticRegression(multi_class = 'multinomial')\n",
    " \n",
    "# обучим нашу модель на основе нормализованных данных\n",
    "X5_train, X5_test, y_train, y_test = train_test_split(X5, y, test_size=0.2, random_state=0)\n",
    "model.fit(X5_train, y_train)\n",
    "# посмотрим на получившиеся веса модели\n",
    "model.coef_"
   ]
  },
  {
   "cell_type": "code",
   "execution_count": 429,
   "id": "b9642f46",
   "metadata": {
    "scrolled": true
   },
   "outputs": [
    {
     "data": {
      "text/html": [
       "<div>\n",
       "<style scoped>\n",
       "    .dataframe tbody tr th:only-of-type {\n",
       "        vertical-align: middle;\n",
       "    }\n",
       "\n",
       "    .dataframe tbody tr th {\n",
       "        vertical-align: top;\n",
       "    }\n",
       "\n",
       "    .dataframe thead th {\n",
       "        text-align: right;\n",
       "    }\n",
       "</style>\n",
       "<table border=\"1\" class=\"dataframe\">\n",
       "  <thead>\n",
       "    <tr style=\"text-align: right;\">\n",
       "      <th></th>\n",
       "      <th>0</th>\n",
       "    </tr>\n",
       "  </thead>\n",
       "  <tbody>\n",
       "    <tr>\n",
       "      <th>№2</th>\n",
       "      <td>0.001526</td>\n",
       "    </tr>\n",
       "    <tr>\n",
       "      <th>№1</th>\n",
       "      <td>0.019577</td>\n",
       "    </tr>\n",
       "    <tr>\n",
       "      <th>№9</th>\n",
       "      <td>0.032235</td>\n",
       "    </tr>\n",
       "    <tr>\n",
       "      <th>№19</th>\n",
       "      <td>0.032735</td>\n",
       "    </tr>\n",
       "    <tr>\n",
       "      <th>№8</th>\n",
       "      <td>0.042853</td>\n",
       "    </tr>\n",
       "    <tr>\n",
       "      <th>№5</th>\n",
       "      <td>0.077450</td>\n",
       "    </tr>\n",
       "    <tr>\n",
       "      <th>№11</th>\n",
       "      <td>0.106813</td>\n",
       "    </tr>\n",
       "    <tr>\n",
       "      <th>№7</th>\n",
       "      <td>0.107451</td>\n",
       "    </tr>\n",
       "    <tr>\n",
       "      <th>№10</th>\n",
       "      <td>0.166486</td>\n",
       "    </tr>\n",
       "    <tr>\n",
       "      <th>№12</th>\n",
       "      <td>0.167597</td>\n",
       "    </tr>\n",
       "    <tr>\n",
       "      <th>№15</th>\n",
       "      <td>0.175648</td>\n",
       "    </tr>\n",
       "    <tr>\n",
       "      <th>№4</th>\n",
       "      <td>0.229725</td>\n",
       "    </tr>\n",
       "    <tr>\n",
       "      <th>№20</th>\n",
       "      <td>0.238170</td>\n",
       "    </tr>\n",
       "    <tr>\n",
       "      <th>№14</th>\n",
       "      <td>0.244560</td>\n",
       "    </tr>\n",
       "    <tr>\n",
       "      <th>№13</th>\n",
       "      <td>0.307068</td>\n",
       "    </tr>\n",
       "    <tr>\n",
       "      <th>№6</th>\n",
       "      <td>0.349626</td>\n",
       "    </tr>\n",
       "    <tr>\n",
       "      <th>№3</th>\n",
       "      <td>0.560389</td>\n",
       "    </tr>\n",
       "    <tr>\n",
       "      <th>№17</th>\n",
       "      <td>1.465257</td>\n",
       "    </tr>\n",
       "    <tr>\n",
       "      <th>№16</th>\n",
       "      <td>1.471062</td>\n",
       "    </tr>\n",
       "    <tr>\n",
       "      <th>№18</th>\n",
       "      <td>1.542062</td>\n",
       "    </tr>\n",
       "  </tbody>\n",
       "</table>\n",
       "</div>"
      ],
      "text/plain": [
       "            0\n",
       "№2   0.001526\n",
       "№1   0.019577\n",
       "№9   0.032235\n",
       "№19  0.032735\n",
       "№8   0.042853\n",
       "№5   0.077450\n",
       "№11  0.106813\n",
       "№7   0.107451\n",
       "№10  0.166486\n",
       "№12  0.167597\n",
       "№15  0.175648\n",
       "№4   0.229725\n",
       "№20  0.238170\n",
       "№14  0.244560\n",
       "№13  0.307068\n",
       "№6   0.349626\n",
       "№3   0.560389\n",
       "№17  1.465257\n",
       "№16  1.471062\n",
       "№18  1.542062"
      ]
     },
     "execution_count": 429,
     "metadata": {},
     "output_type": "execute_result"
    }
   ],
   "source": [
    "#отсортируем их по модулю\n",
    "df5 = pd.DataFrame(np.abs(model.coef_))\n",
    "df5.columns = ['№1', '№2', '№3', '№4','№5', '№6', '№7', '№8','№9', '№10', '№11', '№12','№13', '№14', '№15', '№16','№17', '№18', '№19', '№20']\n",
    "df5.transpose().sort_values(0)"
   ]
  },
  {
   "cell_type": "code",
   "execution_count": 430,
   "id": "281a86e3",
   "metadata": {},
   "outputs": [
    {
     "data": {
      "text/plain": [
       "(100, 2)"
      ]
     },
     "execution_count": 430,
     "metadata": {},
     "output_type": "execute_result"
    }
   ],
   "source": [
    "# Удалим 5 худших признаков. Остальные признаки учтем в  модели SelectFromModel\n",
    "from sklearn.svm import LinearSVC\n",
    "from sklearn.feature_selection import SelectFromModel\n",
    "df6=df2.drop(columns=['№2','№1','№9','№19','№8'])\n",
    "X7 = df6.iloc[:,:-1]\n",
    "lsvc = LinearSVC(C=0.01, penalty=\"l1\", dual=False).fit(X7, y2)\n",
    "model = SelectFromModel(lsvc, prefit=True)\n",
    "X7 = model.transform(X7)\n",
    "X7.shape"
   ]
  },
  {
   "cell_type": "code",
   "execution_count": 431,
   "id": "0c64fa25",
   "metadata": {},
   "outputs": [
    {
     "name": "stdout",
     "output_type": "stream",
     "text": [
      "scores5a = [1.   0.85 0.95 0.85 1.  ] \n",
      "mean score5a = 0.930 +/- 0.068\n"
     ]
    }
   ],
   "source": [
    "scores5a = cross_val_score(clf, X7, y, cv=5)\n",
    "print('scores5a = {} \\nmean score5a = {:.3f} +/- {:.3f}'.format(scores5a, scores5a.mean(), scores5a.std()))"
   ]
  },
  {
   "cell_type": "markdown",
   "id": "0e70fb59",
   "metadata": {},
   "source": [
    "<h4>b) Реализуйте отбор признаков с помощью модели RandomForest и встроенного атрибута feature_impotance."
   ]
  },
  {
   "cell_type": "code",
   "execution_count": 405,
   "id": "ad4765f5",
   "metadata": {
    "run_control": {
     "marked": true
    }
   },
   "outputs": [
    {
     "name": "stdout",
     "output_type": "stream",
     "text": [
      "scores = 0.750\n"
     ]
    }
   ],
   "source": [
    "from sklearn.ensemble import RandomForestClassifier\n",
    "\n",
    "clf = RandomForestClassifier(n_estimators=100)\n",
    "clf.fit(X_train, y_train)\n",
    "#y_pred = clf.predict(X_test)\n",
    "print('scores = {:.3f}'.format(clf.score(X_test, y_test)))"
   ]
  },
  {
   "cell_type": "code",
   "execution_count": 406,
   "id": "1b07687d",
   "metadata": {},
   "outputs": [
    {
     "data": {
      "text/plain": [
       "8     0.007596\n",
       "1     0.010540\n",
       "11    0.012645\n",
       "19    0.012929\n",
       "18    0.013152\n",
       "6     0.013774\n",
       "9     0.014274\n",
       "7     0.014974\n",
       "4     0.015444\n",
       "14    0.016838\n",
       "13    0.017818\n",
       "10    0.020881\n",
       "0     0.021415\n",
       "5     0.024156\n",
       "3     0.026243\n",
       "12    0.027266\n",
       "2     0.033393\n",
       "17    0.175770\n",
       "16    0.237652\n",
       "15    0.283239\n",
       "dtype: float64"
      ]
     },
     "execution_count": 406,
     "metadata": {},
     "output_type": "execute_result"
    }
   ],
   "source": [
    "feature_imp = pd.Series(clf.feature_importances_).sort_values(ascending=True)\n",
    "feature_imp"
   ]
  },
  {
   "cell_type": "markdown",
   "id": "69d6bc4d",
   "metadata": {},
   "source": [
    "<h4>c) Повторите п. 2 на отобранных признаках в п. 5a, п. 5b."
   ]
  },
  {
   "cell_type": "code",
   "execution_count": 407,
   "id": "1c0bfa55",
   "metadata": {},
   "outputs": [
    {
     "name": "stdout",
     "output_type": "stream",
     "text": [
      "scores5b = [0.95 0.85 0.85 0.85 1.  ] \n",
      "mean score5b = 0.900 +/- 0.063\n"
     ]
    }
   ],
   "source": [
    "df7=df2.drop(columns=['№4','№13','№2','№5','№10'])\n",
    "X8, y8 = df7.iloc[:,:-1], df7.iloc[:,-1]\n",
    "scores5b = cross_val_score(clf, X8, y8, cv=5)\n",
    "print('scores5b = {} \\nmean score5b = {:.3f} +/- {:.3f}'.format(scores5b, scores5b.mean(), scores5b.std()))"
   ]
  },
  {
   "cell_type": "markdown",
   "id": "f9fdccbf",
   "metadata": {},
   "source": [
    "<h3>6.Перебор признаков:\n",
    "a) SequentialFeatureSelector."
   ]
  },
  {
   "cell_type": "code",
   "execution_count": 408,
   "id": "ec846400",
   "metadata": {
    "run_control": {
     "marked": true
    }
   },
   "outputs": [
    {
     "data": {
      "text/plain": [
       "(100, 15)"
      ]
     },
     "execution_count": 408,
     "metadata": {},
     "output_type": "execute_result"
    }
   ],
   "source": [
    "from sklearn.feature_selection import SequentialFeatureSelector\n",
    "from sklearn.neighbors import KNeighborsClassifier\n",
    "knn = KNeighborsClassifier(n_neighbors=3)\n",
    "sfs = SequentialFeatureSelector(knn, n_features_to_select=15)\n",
    "X9, y9 = df2.iloc[:,:-1], df2.iloc[:,-1]\n",
    "sfs.fit(X9, y9)\n",
    "#SequentialFeatureSelector(estimator=KNeighborsClassifier(n_neighbors=3),n_features_to_select=15)\n",
    "sfs.get_support()\n",
    "\n",
    "X10 = sfs.transform(X9)\n",
    "X10.shape"
   ]
  },
  {
   "cell_type": "markdown",
   "id": "13163967",
   "metadata": {},
   "source": [
    "<h4>b) Повторите п. 2 на отобранных признаках."
   ]
  },
  {
   "cell_type": "code",
   "execution_count": 409,
   "id": "2cb12739",
   "metadata": {},
   "outputs": [
    {
     "name": "stdout",
     "output_type": "stream",
     "text": [
      "scores6a = [0.95 0.85 0.85 0.85 1.  ] \n",
      "mean score6a = 0.900 +/- 0.063\n"
     ]
    }
   ],
   "source": [
    "scores6a = cross_val_score(clf, X10, y, cv=5)\n",
    "print('scores6a = {} \\nmean score6a = {:.3f} +/- {:.3f}'.format(scores6a, scores6a.mean(), scores6a.std()))"
   ]
  },
  {
   "cell_type": "markdown",
   "id": "7d02515e",
   "metadata": {},
   "source": [
    "<h3>7.Сформулируйте выводы по проделанной работе:"
   ]
  },
  {
   "cell_type": "markdown",
   "id": "8cebae71",
   "metadata": {},
   "source": [
    "<h4>a) Сделайте таблицу вида |способ выбора признаков|количество признаков|средняя точность модели|."
   ]
  },
  {
   "cell_type": "code",
   "execution_count": 432,
   "id": "f757c059",
   "metadata": {},
   "outputs": [
    {
     "data": {
      "text/html": [
       "<div>\n",
       "<style scoped>\n",
       "    .dataframe tbody tr th:only-of-type {\n",
       "        vertical-align: middle;\n",
       "    }\n",
       "\n",
       "    .dataframe tbody tr th {\n",
       "        vertical-align: top;\n",
       "    }\n",
       "\n",
       "    .dataframe thead th {\n",
       "        text-align: right;\n",
       "    }\n",
       "</style>\n",
       "<table border=\"1\" class=\"dataframe\">\n",
       "  <thead>\n",
       "    <tr style=\"text-align: right;\">\n",
       "      <th></th>\n",
       "      <th>номер пункта</th>\n",
       "      <th>способ выбора признаков</th>\n",
       "      <th>количество признаков</th>\n",
       "      <th>средняя точность модели</th>\n",
       "    </tr>\n",
       "  </thead>\n",
       "  <tbody>\n",
       "    <tr>\n",
       "      <th>0</th>\n",
       "      <td>2</td>\n",
       "      <td>LogisticRegression</td>\n",
       "      <td>20</td>\n",
       "      <td>0.85</td>\n",
       "    </tr>\n",
       "    <tr>\n",
       "      <th>1</th>\n",
       "      <td>3a</td>\n",
       "      <td>Корреляция</td>\n",
       "      <td>15</td>\n",
       "      <td>0.92</td>\n",
       "    </tr>\n",
       "    <tr>\n",
       "      <th>2</th>\n",
       "      <td>3b</td>\n",
       "      <td>VarianceThreshold</td>\n",
       "      <td>15</td>\n",
       "      <td>0.92</td>\n",
       "    </tr>\n",
       "    <tr>\n",
       "      <th>3</th>\n",
       "      <td>4a</td>\n",
       "      <td>SelectKBest</td>\n",
       "      <td>5</td>\n",
       "      <td>0.91</td>\n",
       "    </tr>\n",
       "    <tr>\n",
       "      <th>4</th>\n",
       "      <td>5a</td>\n",
       "      <td>SelectFromModel</td>\n",
       "      <td>2</td>\n",
       "      <td>0.93</td>\n",
       "    </tr>\n",
       "    <tr>\n",
       "      <th>5</th>\n",
       "      <td>5b</td>\n",
       "      <td>RandomForest</td>\n",
       "      <td>15</td>\n",
       "      <td>0.90</td>\n",
       "    </tr>\n",
       "    <tr>\n",
       "      <th>6</th>\n",
       "      <td>6a</td>\n",
       "      <td>SequentialFeatureSelector</td>\n",
       "      <td>15</td>\n",
       "      <td>0.90</td>\n",
       "    </tr>\n",
       "  </tbody>\n",
       "</table>\n",
       "</div>"
      ],
      "text/plain": [
       "  номер пункта    способ выбора признаков  количество признаков  \\\n",
       "0            2         LogisticRegression                    20   \n",
       "1           3a                 Корреляция                    15   \n",
       "2           3b          VarianceThreshold                    15   \n",
       "3           4a                SelectKBest                     5   \n",
       "4           5a            SelectFromModel                     2   \n",
       "5           5b               RandomForest                    15   \n",
       "6           6a  SequentialFeatureSelector                    15   \n",
       "\n",
       "   средняя точность модели  \n",
       "0                     0.85  \n",
       "1                     0.92  \n",
       "2                     0.92  \n",
       "3                     0.91  \n",
       "4                     0.93  \n",
       "5                     0.90  \n",
       "6                     0.90  "
      ]
     },
     "execution_count": 432,
     "metadata": {},
     "output_type": "execute_result"
    }
   ],
   "source": [
    "data = {'номер пункта' : ['2', '3a', '3b', '4a', '5a', '5b', '6a'],\n",
    "        'способ выбора признаков' : ['LogisticRegression', 'Корреляция', 'VarianceThreshold', 'SelectKBest', 'SelectFromModel','RandomForest', 'SequentialFeatureSelector'],\n",
    "        'количество признаков' : [X.shape[1], X3.shape[1], X4.shape[1], X6.shape[1], X7.shape[1], X8.shape[1], X10.shape[1]],\n",
    "        'средняя точность модели' : [scores2.mean(), scores3a.mean(), scores3b.mean(), scores4a.mean(), scores5a.mean(), scores5b.mean(), scores6a.mean()]}\n",
    "frame = pd.DataFrame(data)\n",
    "frame"
   ]
  },
  {
   "cell_type": "markdown",
   "id": "1cd2f4a0",
   "metadata": {},
   "source": [
    "Вывод: Использовались несколько методов обработки (сокращения количества) признаков. При этом каждый метод показал более лучший результат чем базовое решение. Улучшения в целом незначительные, так как базовый метод уже имеет хорошее значение scores = 0.85. В целом количество учитываемых признаков не сильно влияет на результат. Например модели с 2 (?) и 5 признаками также показали высокий scores = 0.93 и 0.91.\n",
    "Последующие улучшения включают: изменение параметров каждой модели и оценка чувствительности показателя точности к этим изменениям, в том числе с использованием графиков; применение библиотек для комплексного анализа признаков, например feature-selector, pandas-profiling; применение методов понижения размерности; выявление более сложных (линейных/нелинейных) зависимостей с целью выбора оптимального набора признаков."
   ]
  }
 ],
 "metadata": {
  "kernelspec": {
   "display_name": "Python 3",
   "language": "python",
   "name": "python3"
  },
  "language_info": {
   "codemirror_mode": {
    "name": "ipython",
    "version": 3
   },
   "file_extension": ".py",
   "mimetype": "text/x-python",
   "name": "python",
   "nbconvert_exporter": "python",
   "pygments_lexer": "ipython3",
   "version": "3.9.12"
  }
 },
 "nbformat": 4,
 "nbformat_minor": 5
}
